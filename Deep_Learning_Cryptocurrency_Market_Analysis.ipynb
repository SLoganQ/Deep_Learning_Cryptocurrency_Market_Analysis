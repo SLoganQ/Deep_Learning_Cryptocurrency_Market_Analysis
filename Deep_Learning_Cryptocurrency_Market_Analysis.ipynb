{
  "nbformat": 4,
  "nbformat_minor": 0,
  "metadata": {
    "accelerator": "GPU",
    "colab": {
      "name": "Deep Learning Cryptocurrency Market Analysis.ipynb",
      "provenance": [],
      "collapsed_sections": []
    },
    "kernelspec": {
      "display_name": "Python 3",
      "name": "python3"
    },
    "language_info": {
      "name": "python"
    }
  },
  "cells": [
    {
      "cell_type": "markdown",
      "metadata": {
        "id": "ypzNHo2cuw9d"
      },
      "source": [
        "# Deep Learning - Cryptocurrency Market Analysis with Convolutional Neural Networks"
      ]
    },
    {
      "cell_type": "markdown",
      "metadata": {
        "id": "_k0kTOifvNRI"
      },
      "source": [
        "Trading positions in financial markets can be very difficult. There is a steep learning curve for individuals who want to get involved with trading in these markets. Also, there is a high risk of losing your money just as there is in making money. However, if your trading decisions are the well informed then you stand to make a significant amount of money. There are countless numerical and graphical methods of analysing financial markets to better understand what it will probably end up doing; these are predictive analysis techniques. "
      ]
    },
    {
      "cell_type": "markdown",
      "metadata": {
        "id": "siTU8Qhpvebu"
      },
      "source": [
        "Machine learning and deep learning have already been applied to this task of making predictive analysis. However, using image classification through deep learning of the market activity plots themselves is an underdeveloped application in this field. Using deep learning on a financial market activity plot images has great potential to produce valuable predictive results that few, if any, individuals or organizations are taking advantage of as this new technology is developed."
      ]
    },
    {
      "cell_type": "markdown",
      "metadata": {
        "id": "Hzo8fdgMvzMO"
      },
      "source": [
        "A key part of proceeding with a successful analysis starts with setting up a market viewer with the most expressive price movement representations. Such as choosing, bin width, time scale, image overlap, using candlesticks or simple lines, along with over layed metrics such as moving averages or any other of the dozens of indicators that may be viewed on or along with a activity plot.\n"
      ]
    },
    {
      "cell_type": "markdown",
      "metadata": {
        "id": "dZBmgRgGwfKn"
      },
      "source": [
        "For my analysis I take a series of images and train an Convolutional Neural Network to look at one 7-day image and predict if in the next image days price movement will result in an overall average positive, neutral, or negative price movement. Test images are evaluated ad assigning as Gain, Neutral, or Loss by summing the green and red pixels that the candlesticks are made of and computing a ratio for the image. If the ratio is close to 1.0, then the classification is Neutral. Higher ratios will count as Gain, while lower ratios will count as Loss. \n"
      ]
    },
    {
      "cell_type": "markdown",
      "metadata": {
        "id": "ezEbWLZaw_YQ"
      },
      "source": [
        "Data Source: https://www.bitstamp.net/market/tradeview"
      ]
    },
    {
      "cell_type": "markdown",
      "metadata": {
        "id": "_V7a-A-L8iDA"
      },
      "source": [
        "* For information on my data collection, you can look at my image scraper, image_scraper.py, in this project's repo.\n",
        "* For information on my image processing and preparation, you can look at the Image_Dataset_Prep.ipynb in this project's repo. "
      ]
    },
    {
      "cell_type": "code",
      "metadata": {
        "id": "kXnIfear8-oa"
      },
      "source": [
        "import numpy as np\n",
        "import pandas as pd\n",
        "import matplotlib.pyplot as plt\n",
        "import matplotlib.image as mpimg\n",
        "\n",
        "from google.colab import drive\n",
        "\n",
        "from tensorflow.keras.preprocessing.image import ImageDataGenerator\n",
        "from tensorflow.keras.models import Sequential\n",
        "from tensorflow.keras.layers import Conv2D, MaxPooling2D, GlobalAveragePooling2D\n",
        "from tensorflow.keras.layers import (\n",
        "    Activation,\n",
        "    Dropout,\n",
        "    Flatten,\n",
        "    Dense,\n",
        ")\n",
        "from tensorflow.keras import backend as K\n",
        "from tensorflow.keras.callbacks import ModelCheckpoint\n",
        "from tensorflow.keras.models import Model, load_model\n",
        "from tensorflow.keras.optimizers import Adam, SGD\n",
        "from tensorflow.keras import applications\n",
        "\n",
        "from sklearn.metrics import confusion_matrix, classification_report"
      ],
      "execution_count": 42,
      "outputs": []
    },
    {
      "cell_type": "code",
      "metadata": {
        "colab": {
          "base_uri": "https://localhost:8080/"
        },
        "id": "eY_XKmxkB_1t",
        "outputId": "db03871e-f938-4f21-fcb6-0f62b1f66c41"
      },
      "source": [
        "# Mount google drive\n",
        "drive.mount(\"/content/gdrive\")"
      ],
      "execution_count": 2,
      "outputs": [
        {
          "output_type": "stream",
          "text": [
            "Drive already mounted at /content/gdrive; to attempt to forcibly remount, call drive.mount(\"/content/gdrive\", force_remount=True).\n"
          ],
          "name": "stdout"
        }
      ]
    },
    {
      "cell_type": "code",
      "metadata": {
        "colab": {
          "base_uri": "https://localhost:8080/"
        },
        "id": "xAA5EGgpB_Ad",
        "outputId": "80b3174d-b834-4837-cf77-d57f4ccf3b1c"
      },
      "source": [
        "!ls \"/content/gdrive/My Drive/Colab Notebooks/images\""
      ],
      "execution_count": 3,
      "outputs": [
        {
          "output_type": "stream",
          "text": [
            "pred_images  tmp  training  validation\n"
          ],
          "name": "stdout"
        }
      ]
    },
    {
      "cell_type": "code",
      "metadata": {
        "id": "kD5T8Ub4NkmH"
      },
      "source": [
        "# Image directories\n",
        "img_dir = \"/content/gdrive/My Drive/Colab Notebooks/images\"\n",
        "training_data_dir = \"/content/gdrive/My Drive/Colab Notebooks/images/training/classes\"\n",
        "validation_data_dir = \"/content/gdrive/My Drive/Colab Notebooks/images/validation/classes\"\n",
        "tmp_checkpoint_dir = \"/content/gdrive/My Drive/Colab Notebooks/images/tmp/checkpoint\"\n",
        "tmp_checkpoint_dir_2 = \"/content/gdrive/My Drive/Colab Notebooks/images/tmp/checkpoint_2\"\n",
        "\n",
        "# Class directories\n",
        "gain_training_data_dir = \"/content/gdrive/My Drive/Colab Notebooks/images/training/classes/gain\"\n",
        "neutral_training_data_dir = \"/content/gdrive/My Drive/Colab Notebooks/images/training/classes/neutral\"\n",
        "loss_training_data_dir = \"/content/gdrive/My Drive/Colab Notebooks/images/training/classes/loss\"\n",
        "gain_validation_data_dir = \"/content/gdrive/My Drive/Colab Notebooks/images/validation/classes/gain\"\n",
        "neutral_validation_data_dir = \"/content/gdrive/My Drive/Colab Notebooks/images/validation/classes/neutral\"\n",
        "loss_validation_data_dir = \"/content/gdrive/My Drive/Colab Notebooks/images/validation/classes/loss\"\n",
        "\n",
        "# Pathnames for examples of classes\n",
        "gain_img_filepath = \"/content/gdrive/My Drive/Colab Notebooks/images/training/classes/gain/image_259.png\"\n",
        "neutral_img_filepath = \"/content/gdrive/My Drive/Colab Notebooks/images/training/classes/neutral/image_559.png\"\n",
        "loss_img_filepath =  \"/content/gdrive/My Drive/Colab Notebooks/images/training/classes/loss/image_484.png\""
      ],
      "execution_count": 4,
      "outputs": []
    },
    {
      "cell_type": "markdown",
      "metadata": {
        "id": "yCKZ298nuck5"
      },
      "source": [
        "# Classes Representation"
      ]
    },
    {
      "cell_type": "markdown",
      "metadata": {
        "id": "smDodzcJuq_q"
      },
      "source": [
        "Below is a set of 3 training data images that belong to each of the three classes: gain, neutral, or loss. i.e. the day following these 7 day images have been classified as a gain day, neutral day, or a loss day."
      ]
    },
    {
      "cell_type": "code",
      "metadata": {
        "colab": {
          "base_uri": "https://localhost:8080/",
          "height": 698
        },
        "id": "3NxT2O9Lie33",
        "outputId": "653993c9-8e65-4910-a869-c308356f8cce"
      },
      "source": [
        "img = mpimg.imread(gain_img_filepath)\n",
        "imgplot = plt.imshow(img)\n",
        "plt.title(\"Class - Gain\")\n",
        "plt.show()\n",
        "\n",
        "img = mpimg.imread(neutral_img_filepath)\n",
        "imgplot = plt.imshow(img)\n",
        "plt.title(\"Class - Neutral\")\n",
        "plt.show()\n",
        "\n",
        "img = mpimg.imread(loss_img_filepath)\n",
        "imgplot = plt.imshow(img)\n",
        "plt.title(\"Class - Loss\")\n",
        "plt.show()"
      ],
      "execution_count": 5,
      "outputs": [
        {
          "output_type": "display_data",
          "data": {
            "image/png": "[encoded data removed]",
            "text/plain": [
              "<Figure size 432x288 with 1 Axes>"
            ]
          },
          "metadata": {
            "tags": [],
            "needs_background": "light"
          }
        },
        {
          "output_type": "display_data",
          "data": {
            "image/png": "[encoded data removed]",
            "text/plain": [
              "<Figure size 432x288 with 1 Axes>"
            ]
          },
          "metadata": {
            "tags": [],
            "needs_background": "light"
          }
        },
        {
          "output_type": "display_data",
          "data": {
            "image/png": "[encoded data removed]",
            "text/plain": [
              "<Figure size 432x288 with 1 Axes>"
            ]
          },
          "metadata": {
            "tags": [],
            "needs_background": "light"
          }
        }
      ]
    },
    {
      "cell_type": "markdown",
      "metadata": {
        "id": "MwBKVf983dmh"
      },
      "source": [
        "The class representation is nearly even thirds of the dataset, with neutral leading the race at 44% of the ground truth data. This should result in higher model performance since the dataset is not too heavily skewed in any direction. After looking at many images in each dataset class, it becomes easier to see visual cues that the next day's price action will do one thing or another."
      ]
    },
    {
      "cell_type": "markdown",
      "metadata": {
        "id": "2tetRN64Bolj"
      },
      "source": [
        "# Image processing with Keras"
      ]
    },
    {
      "cell_type": "code",
      "metadata": {
        "id": "VpI-lgj-9Ao5"
      },
      "source": [
        "image_width, image_height = (460, 240)  # pixels (x, y)\n",
        "batch_size =  16 # Size of the sample that is used in iteration training\n",
        "epochs = 20\n",
        "training_sample_size = 2779\n",
        "validation_sample_size = 520"
      ],
      "execution_count": 6,
      "outputs": []
    },
    {
      "cell_type": "code",
      "metadata": {
        "id": "rclqTUn39T_w"
      },
      "source": [
        "# For detecting the format of the data from the environment\n",
        "if K.image_data_format() == \"channels_first\":\n",
        "    input_shape = (3, image_width, image_heigth)\n",
        "else:\n",
        "    input_shape = (image_width, image_height, 3)"
      ],
      "execution_count": 7,
      "outputs": []
    },
    {
      "cell_type": "code",
      "metadata": {
        "colab": {
          "base_uri": "https://localhost:8080/"
        },
        "id": "Q4YiFq4i9YsX",
        "outputId": "91f5a896-bdbf-4674-ec94-5046c4479b8e"
      },
      "source": [
        "input_shape"
      ],
      "execution_count": 8,
      "outputs": [
        {
          "output_type": "execute_result",
          "data": {
            "text/plain": [
              "(460, 240, 3)"
            ]
          },
          "metadata": {
            "tags": []
          },
          "execution_count": 8
        }
      ]
    },
    {
      "cell_type": "code",
      "metadata": {
        "id": "IajnXgKy9u-E"
      },
      "source": [
        "# Processes images and applys data augmentation\n",
        "# https://www.tensorflow.org/api_docs/python/tf/keras/preprocessing/image/ImageDataGenerator\n",
        "train_datagen = ImageDataGenerator(rescale = 1. / 255)"
      ],
      "execution_count": 9,
      "outputs": []
    },
    {
      "cell_type": "code",
      "metadata": {
        "id": "8wf-mjhfBVJ5"
      },
      "source": [
        "test_datagen = ImageDataGenerator(rescale = 1. / 255)"
      ],
      "execution_count": 10,
      "outputs": []
    },
    {
      "cell_type": "code",
      "metadata": {
        "colab": {
          "base_uri": "https://localhost:8080/"
        },
        "id": "xxlki4SjBayS",
        "outputId": "5844e4ae-81ff-4f67-e3f2-091f6686eb9b"
      },
      "source": [
        "# Define the path and parameters of images being loaded in\n",
        "train_generator = train_datagen.flow_from_directory(\n",
        "    training_data_dir,\n",
        "    target_size=(image_width, image_height),\n",
        "    batch_size=batch_size,\n",
        "    class_mode=\"categorical\",\n",
        ")"
      ],
      "execution_count": 11,
      "outputs": [
        {
          "output_type": "stream",
          "text": [
            "Found 2779 images belonging to 3 classes.\n"
          ],
          "name": "stdout"
        }
      ]
    },
    {
      "cell_type": "code",
      "metadata": {
        "colab": {
          "base_uri": "https://localhost:8080/"
        },
        "id": "nbPht4X1BiOp",
        "outputId": "7afad6e5-4762-4252-b219-57a0dd351c22"
      },
      "source": [
        "validation_generator = test_datagen.flow_from_directory(\n",
        "    validation_data_dir,\n",
        "    target_size=(image_width, image_height),\n",
        "    batch_size=batch_size,\n",
        "    class_mode=\"categorical\",\n",
        ")"
      ],
      "execution_count": 12,
      "outputs": [
        {
          "output_type": "stream",
          "text": [
            "Found 520 images belonging to 3 classes.\n"
          ],
          "name": "stdout"
        }
      ]
    },
    {
      "cell_type": "markdown",
      "metadata": {
        "id": "eEvpNz5xBvxQ"
      },
      "source": [
        "# CNN Model"
      ]
    },
    {
      "cell_type": "code",
      "metadata": {
        "id": "AEiYlhsPGN9Y"
      },
      "source": [
        "# Initialize Sequential API\n",
        "model = Sequential()\n",
        "\n",
        "# First convolution layer with 32 filters with 3x3 size\n",
        "model.add(Conv2D(32, (3, 3), activation = \"relu\", input_shape=input_shape))\n",
        "model.add(MaxPooling2D(pool_size=(2, 2))) \n",
        "\n",
        "# Second convolution layer with 64 filters 3x3 filter size\n",
        "model.add(Conv2D(64, (3, 3),  activation = \"relu\"))\n",
        "model.add(MaxPooling2D(pool_size=(2, 2)))\n",
        "\n",
        "# Third convolution layer with 128 filters 3x3 filter size\n",
        "model.add(Conv2D(128, (3, 3), activation = \"relu\"))\n",
        "model.add(MaxPooling2D(pool_size=(2, 2)))\n",
        "\n",
        "# Fourth convolution layer with 32 filters with 3x3 size\n",
        "model.add(Conv2D(64, (3, 3), activation = \"relu\"))\n",
        "model.add(MaxPooling2D(pool_size=(2, 2))) \n",
        "model.add(Dropout(0.5))\n",
        "\n",
        "# Flatten the image\n",
        "model.add(Flatten())\n",
        "\n",
        "# Output Layer\n",
        "model.add(Dense(32, activation = \"relu\"))\n",
        "model.add(Dropout(0.5))\n",
        "model.add(Dense(3, activation = \"softmax\"))"
      ],
      "execution_count": 13,
      "outputs": []
    },
    {
      "cell_type": "code",
      "metadata": {
        "colab": {
          "base_uri": "https://localhost:8080/"
        },
        "id": "mLbXcldOGjKN",
        "outputId": "3dfcbcfd-11c5-49d2-fe2d-accc808568c8"
      },
      "source": [
        "model.summary()"
      ],
      "execution_count": 14,
      "outputs": [
        {
          "output_type": "stream",
          "text": [
            "Model: \"sequential\"\n",
            "_________________________________________________________________\n",
            "Layer (type)                 Output Shape              Param #   \n",
            "=================================================================\n",
            "conv2d (Conv2D)              (None, 458, 238, 32)      896       \n",
            "_________________________________________________________________\n",
            "max_pooling2d (MaxPooling2D) (None, 229, 119, 32)      0         \n",
            "_________________________________________________________________\n",
            "conv2d_1 (Conv2D)            (None, 227, 117, 64)      18496     \n",
            "_________________________________________________________________\n",
            "max_pooling2d_1 (MaxPooling2 (None, 113, 58, 64)       0         \n",
            "_________________________________________________________________\n",
            "conv2d_2 (Conv2D)            (None, 111, 56, 128)      73856     \n",
            "_________________________________________________________________\n",
            "max_pooling2d_2 (MaxPooling2 (None, 55, 28, 128)       0         \n",
            "_________________________________________________________________\n",
            "conv2d_3 (Conv2D)            (None, 53, 26, 64)        73792     \n",
            "_________________________________________________________________\n",
            "max_pooling2d_3 (MaxPooling2 (None, 26, 13, 64)        0         \n",
            "_________________________________________________________________\n",
            "dropout (Dropout)            (None, 26, 13, 64)        0         \n",
            "_________________________________________________________________\n",
            "flatten (Flatten)            (None, 21632)             0         \n",
            "_________________________________________________________________\n",
            "dense (Dense)                (None, 32)                692256    \n",
            "_________________________________________________________________\n",
            "dropout_1 (Dropout)          (None, 32)                0         \n",
            "_________________________________________________________________\n",
            "dense_1 (Dense)              (None, 3)                 99        \n",
            "=================================================================\n",
            "Total params: 859,395\n",
            "Trainable params: 859,395\n",
            "Non-trainable params: 0\n",
            "_________________________________________________________________\n"
          ],
          "name": "stdout"
        }
      ]
    },
    {
      "cell_type": "markdown",
      "metadata": {
        "id": "oXKcB3-bB-J2"
      },
      "source": [
        "The number of parameters is acceptable. Though can be reduced if necessary with the use of more convolution and maxpooling layers."
      ]
    },
    {
      "cell_type": "code",
      "metadata": {
        "id": "YFGYgf_JGmL0"
      },
      "source": [
        "model.compile(loss=\"categorical_crossentropy\", optimizer=Adam(lr=0.0001), metrics=[\"accuracy\"])"
      ],
      "execution_count": 15,
      "outputs": []
    },
    {
      "cell_type": "code",
      "metadata": {
        "id": "mvLJe17kWJxN"
      },
      "source": [
        "checkpoint_filepath = tmp_checkpoint_dir\n",
        "model_checkpoint_callback = ModelCheckpoint(\n",
        "    filepath=checkpoint_filepath,\n",
        "    monitor='val_accuracy',\n",
        "    verbose=1,\n",
        "    save_best_only=True,\n",
        "    mode='max',\n",
        ")\n",
        "callback_list = [model_checkpoint_callback]"
      ],
      "execution_count": 16,
      "outputs": []
    },
    {
      "cell_type": "code",
      "metadata": {
        "colab": {
          "base_uri": "https://localhost:8080/"
        },
        "id": "CKFh3kA6GqD0",
        "outputId": "5d7c449d-a20b-44ae-fdf1-ca0a70e3c38a"
      },
      "source": [
        "cnn_history = model.fit_generator(\n",
        "    train_generator,\n",
        "    epochs=50,\n",
        "    callbacks=callback_list,\n",
        "    validation_data=validation_generator,\n",
        "    steps_per_epoch=training_sample_size // batch_size,\n",
        "    validation_steps=validation_sample_size // batch_size,\n",
        ")\n"
      ],
      "execution_count": 17,
      "outputs": [
        {
          "output_type": "stream",
          "text": [
            "Epoch 1/20\n"
          ],
          "name": "stdout"
        },
        {
          "output_type": "stream",
          "text": [
            "/usr/local/lib/python3.7/dist-packages/tensorflow/python/keras/engine/training.py:1844: UserWarning: `Model.fit_generator` is deprecated and will be removed in a future version. Please use `Model.fit`, which supports generators.\n",
            "  warnings.warn('`Model.fit_generator` is deprecated and '\n"
          ],
          "name": "stderr"
        },
        {
          "output_type": "stream",
          "text": [
            "173/173 [==============================] - 26s 127ms/step - loss: 1.0871 - accuracy: 0.3731 - val_loss: 1.0707 - val_accuracy: 0.4785\n",
            "\n",
            "Epoch 00001: val_accuracy improved from -inf to 0.47852, saving model to /content/gdrive/My Drive/Colab Notebooks/images/tmp/checkpoint\n",
            "INFO:tensorflow:Assets written to: /content/gdrive/My Drive/Colab Notebooks/images/tmp/checkpoint/assets\n",
            "Epoch 2/20\n",
            "173/173 [==============================] - 21s 119ms/step - loss: 1.0798 - accuracy: 0.3744 - val_loss: 1.0562 - val_accuracy: 0.4707\n",
            "\n",
            "Epoch 00002: val_accuracy did not improve from 0.47852\n",
            "Epoch 3/20\n",
            "173/173 [==============================] - 21s 122ms/step - loss: 1.0738 - accuracy: 0.4280 - val_loss: 1.0645 - val_accuracy: 0.4727\n",
            "\n",
            "Epoch 00003: val_accuracy did not improve from 0.47852\n",
            "Epoch 4/20\n",
            "173/173 [==============================] - 21s 122ms/step - loss: 1.0700 - accuracy: 0.4204 - val_loss: 1.0719 - val_accuracy: 0.4824\n",
            "\n",
            "Epoch 00004: val_accuracy improved from 0.47852 to 0.48242, saving model to /content/gdrive/My Drive/Colab Notebooks/images/tmp/checkpoint\n",
            "INFO:tensorflow:Assets written to: /content/gdrive/My Drive/Colab Notebooks/images/tmp/checkpoint/assets\n",
            "Epoch 5/20\n",
            "173/173 [==============================] - 21s 121ms/step - loss: 1.0660 - accuracy: 0.4255 - val_loss: 1.0618 - val_accuracy: 0.4766\n",
            "\n",
            "Epoch 00005: val_accuracy did not improve from 0.48242\n",
            "Epoch 6/20\n",
            "173/173 [==============================] - 21s 120ms/step - loss: 1.0651 - accuracy: 0.4192 - val_loss: 1.0625 - val_accuracy: 0.4609\n",
            "\n",
            "Epoch 00006: val_accuracy did not improve from 0.48242\n",
            "Epoch 7/20\n",
            "173/173 [==============================] - 21s 120ms/step - loss: 1.0604 - accuracy: 0.4323 - val_loss: 1.0617 - val_accuracy: 0.4805\n",
            "\n",
            "Epoch 00007: val_accuracy did not improve from 0.48242\n",
            "Epoch 8/20\n",
            "173/173 [==============================] - 21s 120ms/step - loss: 1.0560 - accuracy: 0.4322 - val_loss: 1.0633 - val_accuracy: 0.4688\n",
            "\n",
            "Epoch 00008: val_accuracy did not improve from 0.48242\n",
            "Epoch 9/20\n",
            "173/173 [==============================] - 21s 120ms/step - loss: 1.0580 - accuracy: 0.4323 - val_loss: 1.0661 - val_accuracy: 0.4492\n",
            "\n",
            "Epoch 00009: val_accuracy did not improve from 0.48242\n",
            "Epoch 10/20\n",
            "173/173 [==============================] - 21s 120ms/step - loss: 1.0368 - accuracy: 0.4430 - val_loss: 1.0643 - val_accuracy: 0.4375\n",
            "\n",
            "Epoch 00010: val_accuracy did not improve from 0.48242\n",
            "Epoch 11/20\n",
            "173/173 [==============================] - 21s 120ms/step - loss: 1.0263 - accuracy: 0.4661 - val_loss: 1.0652 - val_accuracy: 0.4414\n",
            "\n",
            "Epoch 00011: val_accuracy did not improve from 0.48242\n",
            "Epoch 12/20\n",
            "173/173 [==============================] - 21s 120ms/step - loss: 1.0218 - accuracy: 0.4563 - val_loss: 1.0692 - val_accuracy: 0.4473\n",
            "\n",
            "Epoch 00012: val_accuracy did not improve from 0.48242\n",
            "Epoch 13/20\n",
            "173/173 [==============================] - 21s 120ms/step - loss: 0.9971 - accuracy: 0.4802 - val_loss: 1.0758 - val_accuracy: 0.4316\n",
            "\n",
            "Epoch 00013: val_accuracy did not improve from 0.48242\n",
            "Epoch 14/20\n",
            "173/173 [==============================] - 21s 120ms/step - loss: 0.9917 - accuracy: 0.4813 - val_loss: 1.0859 - val_accuracy: 0.4238\n",
            "\n",
            "Epoch 00014: val_accuracy did not improve from 0.48242\n",
            "Epoch 15/20\n",
            "173/173 [==============================] - 21s 120ms/step - loss: 0.9266 - accuracy: 0.5455 - val_loss: 1.0784 - val_accuracy: 0.4238\n",
            "\n",
            "Epoch 00015: val_accuracy did not improve from 0.48242\n",
            "Epoch 16/20\n",
            "173/173 [==============================] - 21s 119ms/step - loss: 0.9122 - accuracy: 0.5521 - val_loss: 1.1243 - val_accuracy: 0.4199\n",
            "\n",
            "Epoch 00016: val_accuracy did not improve from 0.48242\n",
            "Epoch 17/20\n",
            "173/173 [==============================] - 21s 120ms/step - loss: 0.8624 - accuracy: 0.5812 - val_loss: 1.1235 - val_accuracy: 0.4180\n",
            "\n",
            "Epoch 00017: val_accuracy did not improve from 0.48242\n",
            "Epoch 18/20\n",
            "173/173 [==============================] - 21s 119ms/step - loss: 0.8523 - accuracy: 0.5862 - val_loss: 1.1150 - val_accuracy: 0.4297\n",
            "\n",
            "Epoch 00018: val_accuracy did not improve from 0.48242\n",
            "Epoch 19/20\n",
            "173/173 [==============================] - 21s 121ms/step - loss: 0.8244 - accuracy: 0.6096 - val_loss: 1.1546 - val_accuracy: 0.4355\n",
            "\n",
            "Epoch 00019: val_accuracy did not improve from 0.48242\n",
            "Epoch 20/20\n",
            "173/173 [==============================] - 21s 120ms/step - loss: 0.7642 - accuracy: 0.6394 - val_loss: 1.1705 - val_accuracy: 0.4297\n",
            "\n",
            "Epoch 00020: val_accuracy did not improve from 0.48242\n"
          ],
          "name": "stdout"
        }
      ]
    },
    {
      "cell_type": "markdown",
      "metadata": {
        "id": "GAuh6qScCfS-"
      },
      "source": [
        "# CNN Model Evaluation"
      ]
    },
    {
      "cell_type": "code",
      "metadata": {
        "id": "JgSlKpLpCnn7",
        "colab": {
          "base_uri": "https://localhost:8080/",
          "height": 458
        },
        "outputId": "49777918-a9a1-4b51-c23f-e02c102e27da"
      },
      "source": [
        "# Plot accuracy and loss to visualize model results\n",
        "\n",
        "plt.figure(figsize=(14,7))\n",
        "\n",
        "plt.subplot(1,2,1)\n",
        "plt.plot(cnn_history.history['accuracy'], color='b')\n",
        "plt.plot(cnn_history.history['val_accuracy'], color='r')\n",
        "plt.title('Model Accuracy')\n",
        "plt.ylabel('Accuracy')\n",
        "plt.xlabel('Epoch')\n",
        "plt.legend(['Train', 'Test'], loc='best')\n",
        "\n",
        "plt.subplot(1,2,2)\n",
        "plt.plot(cnn_history.history['loss'], color='b')\n",
        "plt.plot(cnn_history.history['val_loss'], color='r')\n",
        "plt.title('Model Loss')\n",
        "plt.ylabel('Loss')\n",
        "plt.xlabel('Epoch')\n",
        "plt.legend(['Train', 'Test'], loc='best')\n",
        "plt.show()\n",
        "\n",
        "plt.show()"
      ],
      "execution_count": 18,
      "outputs": [
        {
          "output_type": "display_data",
          "data": {
            "image/png": "[encoded data removed]",
            "text/plain": [
              "<Figure size 1008x504 with 2 Axes>"
            ]
          },
          "metadata": {
            "tags": [],
            "needs_background": "light"
          }
        }
      ]
    },
    {
      "cell_type": "markdown",
      "metadata": {
        "id": "p2bwbLgk4c4i"
      },
      "source": [
        "The CNN model shows promising performance with the training dataset; though, a max accuracy score of about 63% is not saying much, nor is a minimum training loss of 0.77. Though, the training set works much better with the model than the test / validation set. The score for accuracy and loss continue to get worse after each epoch. This could be due to a combination of overfitting, inadequate network architecture, and hyperparameters out of tune with each other and the model. It is a very complex and painstaking process to debug and optimize a CNN model and it's training process. Let's check out a few more evaluation metrics before moving onto a model that is built on a pre-trained image classification CNN model."
      ]
    },
    {
      "cell_type": "code",
      "metadata": {
        "id": "7dH99jLTGw9y"
      },
      "source": [
        "# Save model weights and architecture\n",
        "model.save(\"predict_day_market.h5\")"
      ],
      "execution_count": 19,
      "outputs": []
    },
    {
      "cell_type": "code",
      "metadata": {
        "id": "ZGrrDqelIVBQ"
      },
      "source": [
        "# Load saved model\n",
        "trained_model = load_model(\"predict_day_market.h5\")\n",
        "\n",
        "## Can train on new data here\n",
        "# trained_model.fit(new_X_train, new_y_train)\n",
        "# trained_model.evaluate()\n",
        "\n",
        "# Trained_model.save(\"predict_day_market.h5\")"
      ],
      "execution_count": 21,
      "outputs": []
    },
    {
      "cell_type": "code",
      "metadata": {
        "id": "EGq-Ux7QIasX",
        "colab": {
          "base_uri": "https://localhost:8080/"
        },
        "outputId": "06b22482-aa80-4526-b3a3-be490d0beb81"
      },
      "source": [
        "# Model summary\n",
        "trained_model.summary()"
      ],
      "execution_count": 22,
      "outputs": [
        {
          "output_type": "stream",
          "text": [
            "Model: \"sequential\"\n",
            "_________________________________________________________________\n",
            "Layer (type)                 Output Shape              Param #   \n",
            "=================================================================\n",
            "conv2d (Conv2D)              (None, 458, 238, 32)      896       \n",
            "_________________________________________________________________\n",
            "max_pooling2d (MaxPooling2D) (None, 229, 119, 32)      0         \n",
            "_________________________________________________________________\n",
            "conv2d_1 (Conv2D)            (None, 227, 117, 64)      18496     \n",
            "_________________________________________________________________\n",
            "max_pooling2d_1 (MaxPooling2 (None, 113, 58, 64)       0         \n",
            "_________________________________________________________________\n",
            "conv2d_2 (Conv2D)            (None, 111, 56, 128)      73856     \n",
            "_________________________________________________________________\n",
            "max_pooling2d_2 (MaxPooling2 (None, 55, 28, 128)       0         \n",
            "_________________________________________________________________\n",
            "conv2d_3 (Conv2D)            (None, 53, 26, 64)        73792     \n",
            "_________________________________________________________________\n",
            "max_pooling2d_3 (MaxPooling2 (None, 26, 13, 64)        0         \n",
            "_________________________________________________________________\n",
            "dropout (Dropout)            (None, 26, 13, 64)        0         \n",
            "_________________________________________________________________\n",
            "flatten (Flatten)            (None, 21632)             0         \n",
            "_________________________________________________________________\n",
            "dense (Dense)                (None, 32)                692256    \n",
            "_________________________________________________________________\n",
            "dropout_1 (Dropout)          (None, 32)                0         \n",
            "_________________________________________________________________\n",
            "dense_1 (Dense)              (None, 3)                 99        \n",
            "=================================================================\n",
            "Total params: 859,395\n",
            "Trainable params: 859,395\n",
            "Non-trainable params: 0\n",
            "_________________________________________________________________\n"
          ],
          "name": "stdout"
        }
      ]
    },
    {
      "cell_type": "code",
      "metadata": {
        "id": "rKdlT-GJC0QX"
      },
      "source": [
        "# Use weights from best model with model structure\n",
        "\n",
        "# Initialize Sequential API\n",
        "model = Sequential()\n",
        "\n",
        "# First convolution layer with 32 filters with 3x3 size\n",
        "model.add(Conv2D(32, (3, 3), activation = \"relu\", input_shape=input_shape))\n",
        "model.add(MaxPooling2D(pool_size=(2, 2))) \n",
        "\n",
        "# Second convolution layer with 64 filters 3x3 filter size\n",
        "model.add(Conv2D(64, (3, 3),  activation = \"relu\"))\n",
        "model.add(MaxPooling2D(pool_size=(2, 2)))\n",
        "\n",
        "# Third convolution layer with 128 filters 3x3 filter size\n",
        "model.add(Conv2D(128, (3, 3), activation = \"relu\"))\n",
        "model.add(MaxPooling2D(pool_size=(2, 2)))\n",
        "\n",
        "# Fourth convolution layer with 32 filters with 3x3 size\n",
        "model.add(Conv2D(64, (3, 3), activation = \"relu\"))\n",
        "model.add(MaxPooling2D(pool_size=(2, 2))) \n",
        "model.add(Dropout(0.4))\n",
        "\n",
        "# Flatten the image\n",
        "model.add(Flatten())\n",
        "\n",
        "# Output Layer\n",
        "model.add(Dense(32, activation = \"relu\"))\n",
        "model.add(Dropout(0.4))\n",
        "model.add(Dense(3, activation = \"softmax\"))\n",
        "\n",
        "# Add best weights\n",
        "model.load_weights(\"predict_day_market.h5\")"
      ],
      "execution_count": 24,
      "outputs": []
    },
    {
      "cell_type": "code",
      "metadata": {
        "id": "Cb4UebzlEdsl"
      },
      "source": [
        "model.compile(loss=\"categorical_crossentropy\", optimizer=Adam(lr=0.0001), metrics=['accuracy'])"
      ],
      "execution_count": 26,
      "outputs": []
    },
    {
      "cell_type": "markdown",
      "metadata": {
        "id": "sj6dwzENEo1X"
      },
      "source": [
        "This is the models best observer performance so far. Now we can evaluate with metrics such as test loss and test accuracy and compute a confusion matrix and classification report.\n",
        "\n",
        "> Indented block\n",
        "\n"
      ]
    },
    {
      "cell_type": "code",
      "metadata": {
        "colab": {
          "base_uri": "https://localhost:8080/"
        },
        "id": "ycVitoDiEkef",
        "outputId": "8c8d1526-7038-4644-b3c1-0e26623b0ea4"
      },
      "source": [
        "# Evaluation scores\n",
        "scores = model.evaluate(validation_generator, verbose=0)\n",
        "print('Test loss:', scores[0])\n",
        "print('Test accuracy:', scores[1])"
      ],
      "execution_count": 28,
      "outputs": [
        {
          "output_type": "stream",
          "text": [
            "Test loss: 1.172140121459961\n",
            "Test accuracy: 0.428846150636673\n"
          ],
          "name": "stdout"
        }
      ]
    },
    {
      "cell_type": "code",
      "metadata": {
        "colab": {
          "base_uri": "https://localhost:8080/"
        },
        "id": "UZtXuPBHGOKl",
        "outputId": "6a252cb2-b62a-4b78-df84-10949059e482"
      },
      "source": [
        "# Make Predictions\n",
        "predictions = model.predict_generator(validation_generator)\n",
        "predicted_classes = np.argmax(predictions, axis=1)\n",
        "#predicted_classes"
      ],
      "execution_count": 33,
      "outputs": [
        {
          "output_type": "stream",
          "text": [
            "/usr/local/lib/python3.7/dist-packages/tensorflow/python/keras/engine/training.py:1905: UserWarning: `Model.predict_generator` is deprecated and will be removed in a future version. Please use `Model.predict`, which supports generators.\n",
            "  warnings.warn('`Model.predict_generator` is deprecated and '\n"
          ],
          "name": "stderr"
        },
        {
          "output_type": "execute_result",
          "data": {
            "text/plain": [
              "array([1, 2, 0, 1, 0, 2, 2, 0, 0, 0, 0, 0, 2, 0, 0, 2, 0, 2, 2, 0, 2, 2,\n",
              "       0, 1, 2, 0, 2, 2, 2, 0, 1, 1, 1, 2, 0, 2, 2, 0, 2, 0, 2, 1, 2, 1,\n",
              "       2, 2, 0, 0, 0, 0, 2, 1, 2, 2, 2, 0, 2, 2, 0, 1, 2, 2, 1, 2, 2, 1,\n",
              "       2, 0, 2, 0, 0, 2, 0, 2, 0, 2, 0, 2, 2, 2, 2, 0, 0, 2, 2, 0, 2, 2,\n",
              "       2, 2, 0, 0, 2, 0, 1, 2, 2, 2, 1, 0, 0, 2, 2, 2, 2, 1, 2, 2, 2, 0,\n",
              "       2, 2, 2, 2, 2, 2, 1, 0, 0, 2, 2, 0, 1, 2, 2, 2, 2, 0, 1, 2, 0, 1,\n",
              "       2, 0, 2, 2, 2, 0, 2, 0, 0, 2, 0, 0, 1, 2, 1, 2, 2, 0, 2, 2, 0, 1,\n",
              "       2, 0, 2, 1, 2, 0, 2, 1, 2, 0, 2, 0, 2, 2, 1, 2, 2, 0, 0, 2, 2, 0,\n",
              "       0, 1, 1, 0, 0, 2, 1, 2, 1, 2, 0, 1, 2, 2, 2, 2, 0, 2, 2, 2, 2, 0,\n",
              "       0, 1, 2, 2, 2, 0, 2, 0, 2, 1, 2, 0, 0, 2, 1, 0, 2, 0, 2, 2, 0, 1,\n",
              "       0, 0, 0, 2, 2, 0, 2, 2, 2, 2, 0, 0, 2, 2, 0, 0, 1, 0, 2, 1, 1, 0,\n",
              "       1, 2, 2, 0, 2, 2, 0, 0, 2, 0, 2, 2, 1, 1, 1, 0, 0, 2, 1, 1, 2, 2,\n",
              "       2, 0, 0, 1, 1, 0, 2, 0, 0, 2, 2, 1, 2, 1, 2, 2, 0, 2, 0, 2, 2, 2,\n",
              "       1, 2, 1, 2, 0, 2, 2, 0, 2, 0, 2, 1, 2, 0, 2, 2, 0, 2, 2, 0, 0, 1,\n",
              "       2, 1, 2, 2, 1, 2, 1, 2, 0, 2, 1, 0, 1, 2, 2, 1, 0, 2, 0, 1, 2, 2,\n",
              "       2, 0, 2, 2, 2, 2, 1, 2, 0, 2, 2, 2, 2, 0, 2, 1, 0, 2, 2, 0, 2, 2,\n",
              "       2, 0, 2, 0, 2, 2, 1, 2, 2, 2, 0, 2, 0, 2, 2, 2, 0, 2, 2, 2, 2, 1,\n",
              "       2, 1, 0, 1, 2, 2, 2, 1, 2, 0, 2, 1, 2, 2, 1, 2, 2, 2, 1, 1, 0, 2,\n",
              "       2, 2, 2, 2, 0, 2, 0, 1, 1, 2, 2, 2, 2, 0, 1, 0, 0, 2, 0, 0, 2, 2,\n",
              "       2, 2, 0, 1, 1, 0, 2, 2, 2, 2, 2, 0, 0, 0, 0, 2, 1, 0, 2, 1, 1, 2,\n",
              "       2, 2, 0, 0, 2, 2, 2, 0, 0, 0, 2, 2, 0, 0, 2, 2, 0, 0, 2, 2, 2, 2,\n",
              "       2, 1, 0, 0, 0, 0, 2, 1, 1, 1, 0, 2, 2, 2, 0, 0, 0, 2, 0, 1, 1, 2,\n",
              "       2, 2, 2, 0, 2, 0, 1, 0, 0, 2, 0, 2, 2, 1, 2, 2, 1, 2, 0, 0, 0, 0,\n",
              "       0, 2, 2, 2, 0, 1, 0, 0, 2, 0, 0, 1, 0, 2])"
            ]
          },
          "metadata": {
            "tags": []
          },
          "execution_count": 33
        }
      ]
    },
    {
      "cell_type": "code",
      "metadata": {
        "id": "Q8sUUlo2GV76"
      },
      "source": [
        "y_true = validation_generator.classes\n",
        "#y_true"
      ],
      "execution_count": 34,
      "outputs": []
    },
    {
      "cell_type": "code",
      "metadata": {
        "colab": {
          "base_uri": "https://localhost:8080/"
        },
        "id": "8Rhgdgt2GXtb",
        "outputId": "368a34b0-b432-453f-c738-dd7d88c0eed2"
      },
      "source": [
        "# Confusion matrix\n",
        "cm = confusion_matrix(y_true, predicted_classes)\n",
        "cm\n",
        "\n",
        "# Labels: gain, neutral, loss"
      ],
      "execution_count": 35,
      "outputs": [
        {
          "output_type": "execute_result",
          "data": {
            "text/plain": [
              "array([[ 52,  22,  83],\n",
              "       [ 41,  23,  53],\n",
              "       [ 74,  43, 129]])"
            ]
          },
          "metadata": {
            "tags": []
          },
          "execution_count": 35
        }
      ]
    },
    {
      "cell_type": "code",
      "metadata": {
        "colab": {
          "base_uri": "https://localhost:8080/"
        },
        "id": "QOM00JUXGet6",
        "outputId": "7e328701-4d63-47ed-d009-760b938e4c4b"
      },
      "source": [
        "# Classification report\n",
        "class_labels = list(validation_generator.class_indices.keys()) \n",
        "report = classification_report(y_true, predicted_classes, target_names=class_labels)\n",
        "print(report)"
      ],
      "execution_count": 36,
      "outputs": [
        {
          "output_type": "stream",
          "text": [
            "              precision    recall  f1-score   support\n",
            "\n",
            "        gain       0.31      0.33      0.32       157\n",
            "        loss       0.26      0.20      0.22       117\n",
            "     neutral       0.49      0.52      0.50       246\n",
            "\n",
            "    accuracy                           0.39       520\n",
            "   macro avg       0.35      0.35      0.35       520\n",
            "weighted avg       0.38      0.39      0.39       520\n",
            "\n"
          ],
          "name": "stdout"
        }
      ]
    },
    {
      "cell_type": "markdown",
      "metadata": {
        "id": "DJvG4cm_N-xl"
      },
      "source": [
        "From the evaluation metrics, it's easy to see that this model does not perform very well as is. The confusion matrix tell us that the model is having the hardest time predicting losses, then gains, then neutral classes. The most common error was When the model predicted loss but the reality was a gain. Which makes sense; in the trading world these are called bear traps and are end up tricking people to sell when they really should have bought the dip."
      ]
    },
    {
      "cell_type": "markdown",
      "metadata": {
        "id": "pJ4cFp2fGvzo"
      },
      "source": [
        "# Xception model"
      ]
    },
    {
      "cell_type": "markdown",
      "metadata": {
        "id": "7SvdYZ3LG3OG"
      },
      "source": [
        "Using pretrained models can offer large boosts in performance; that's exactly what this data needs right now. Xception is trained on ImageNet and can be found in Ke\n",
        "\n",
        "```\n",
        "# This is formatted as code\n",
        "```\n",
        "\n",
        "ras Applications, Available Models."
      ]
    },
    {
      "cell_type": "code",
      "metadata": {
        "colab": {
          "base_uri": "https://localhost:8080/"
        },
        "id": "AIzBvjUSJHw2",
        "outputId": "baaa07d7-1285-448b-d4f8-210e37f68acb"
      },
      "source": [
        "# Xception CNN classifier\n",
        "base_model_Xception = applications.Xception(\n",
        "    weights='imagenet', # use pre-trained weights\n",
        "    include_top=False # not including fully connected layers\n",
        ")\n",
        "\n",
        "# Pooling layer\n",
        "x = base_model_Xception.output\n",
        "x = GlobalAveragePooling2D()(x)\n",
        "\n",
        "# Dropout layer\n",
        "x = Dropout(0.4)(x)\n",
        "\n",
        "# Classification layer for output (fully-connected)\n",
        "predictions = Dense(3, activation='softmax')(x)\n",
        "\n",
        "# Create full network for training\n",
        "Xception_model = Model(\n",
        "    inputs=base_model_Xception.input,\n",
        "    outputs=predictions\n",
        ")\n",
        "\n",
        "Xception_model.summary()"
      ],
      "execution_count": 39,
      "outputs": [
        {
          "output_type": "stream",
          "text": [
            "Model: \"model\"\n",
            "__________________________________________________________________________________________________\n",
            "Layer (type)                    Output Shape         Param #     Connected to                     \n",
            "==================================================================================================\n",
            "input_2 (InputLayer)            [(None, None, None,  0                                            \n",
            "__________________________________________________________________________________________________\n",
            "block1_conv1 (Conv2D)           (None, None, None, 3 864         input_2[0][0]                    \n",
            "__________________________________________________________________________________________________\n",
            "block1_conv1_bn (BatchNormaliza (None, None, None, 3 128         block1_conv1[0][0]               \n",
            "__________________________________________________________________________________________________\n",
            "block1_conv1_act (Activation)   (None, None, None, 3 0           block1_conv1_bn[0][0]            \n",
            "__________________________________________________________________________________________________\n",
            "block1_conv2 (Conv2D)           (None, None, None, 6 18432       block1_conv1_act[0][0]           \n",
            "__________________________________________________________________________________________________\n",
            "block1_conv2_bn (BatchNormaliza (None, None, None, 6 256         block1_conv2[0][0]               \n",
            "__________________________________________________________________________________________________\n",
            "block1_conv2_act (Activation)   (None, None, None, 6 0           block1_conv2_bn[0][0]            \n",
            "__________________________________________________________________________________________________\n",
            "block2_sepconv1 (SeparableConv2 (None, None, None, 1 8768        block1_conv2_act[0][0]           \n",
            "__________________________________________________________________________________________________\n",
            "block2_sepconv1_bn (BatchNormal (None, None, None, 1 512         block2_sepconv1[0][0]            \n",
            "__________________________________________________________________________________________________\n",
            "block2_sepconv2_act (Activation (None, None, None, 1 0           block2_sepconv1_bn[0][0]         \n",
            "__________________________________________________________________________________________________\n",
            "block2_sepconv2 (SeparableConv2 (None, None, None, 1 17536       block2_sepconv2_act[0][0]        \n",
            "__________________________________________________________________________________________________\n",
            "block2_sepconv2_bn (BatchNormal (None, None, None, 1 512         block2_sepconv2[0][0]            \n",
            "__________________________________________________________________________________________________\n",
            "conv2d_16 (Conv2D)              (None, None, None, 1 8192        block1_conv2_act[0][0]           \n",
            "__________________________________________________________________________________________________\n",
            "block2_pool (MaxPooling2D)      (None, None, None, 1 0           block2_sepconv2_bn[0][0]         \n",
            "__________________________________________________________________________________________________\n",
            "batch_normalization_4 (BatchNor (None, None, None, 1 512         conv2d_16[0][0]                  \n",
            "__________________________________________________________________________________________________\n",
            "add_12 (Add)                    (None, None, None, 1 0           block2_pool[0][0]                \n",
            "                                                                 batch_normalization_4[0][0]      \n",
            "__________________________________________________________________________________________________\n",
            "block3_sepconv1_act (Activation (None, None, None, 1 0           add_12[0][0]                     \n",
            "__________________________________________________________________________________________________\n",
            "block3_sepconv1 (SeparableConv2 (None, None, None, 2 33920       block3_sepconv1_act[0][0]        \n",
            "__________________________________________________________________________________________________\n",
            "block3_sepconv1_bn (BatchNormal (None, None, None, 2 1024        block3_sepconv1[0][0]            \n",
            "__________________________________________________________________________________________________\n",
            "block3_sepconv2_act (Activation (None, None, None, 2 0           block3_sepconv1_bn[0][0]         \n",
            "__________________________________________________________________________________________________\n",
            "block3_sepconv2 (SeparableConv2 (None, None, None, 2 67840       block3_sepconv2_act[0][0]        \n",
            "__________________________________________________________________________________________________\n",
            "block3_sepconv2_bn (BatchNormal (None, None, None, 2 1024        block3_sepconv2[0][0]            \n",
            "__________________________________________________________________________________________________\n",
            "conv2d_17 (Conv2D)              (None, None, None, 2 32768       add_12[0][0]                     \n",
            "__________________________________________________________________________________________________\n",
            "block3_pool (MaxPooling2D)      (None, None, None, 2 0           block3_sepconv2_bn[0][0]         \n",
            "__________________________________________________________________________________________________\n",
            "batch_normalization_5 (BatchNor (None, None, None, 2 1024        conv2d_17[0][0]                  \n",
            "__________________________________________________________________________________________________\n",
            "add_13 (Add)                    (None, None, None, 2 0           block3_pool[0][0]                \n",
            "                                                                 batch_normalization_5[0][0]      \n",
            "__________________________________________________________________________________________________\n",
            "block4_sepconv1_act (Activation (None, None, None, 2 0           add_13[0][0]                     \n",
            "__________________________________________________________________________________________________\n",
            "block4_sepconv1 (SeparableConv2 (None, None, None, 7 188672      block4_sepconv1_act[0][0]        \n",
            "__________________________________________________________________________________________________\n",
            "block4_sepconv1_bn (BatchNormal (None, None, None, 7 2912        block4_sepconv1[0][0]            \n",
            "__________________________________________________________________________________________________\n",
            "block4_sepconv2_act (Activation (None, None, None, 7 0           block4_sepconv1_bn[0][0]         \n",
            "__________________________________________________________________________________________________\n",
            "block4_sepconv2 (SeparableConv2 (None, None, None, 7 536536      block4_sepconv2_act[0][0]        \n",
            "__________________________________________________________________________________________________\n",
            "block4_sepconv2_bn (BatchNormal (None, None, None, 7 2912        block4_sepconv2[0][0]            \n",
            "__________________________________________________________________________________________________\n",
            "conv2d_18 (Conv2D)              (None, None, None, 7 186368      add_13[0][0]                     \n",
            "__________________________________________________________________________________________________\n",
            "block4_pool (MaxPooling2D)      (None, None, None, 7 0           block4_sepconv2_bn[0][0]         \n",
            "__________________________________________________________________________________________________\n",
            "batch_normalization_6 (BatchNor (None, None, None, 7 2912        conv2d_18[0][0]                  \n",
            "__________________________________________________________________________________________________\n",
            "add_14 (Add)                    (None, None, None, 7 0           block4_pool[0][0]                \n",
            "                                                                 batch_normalization_6[0][0]      \n",
            "__________________________________________________________________________________________________\n",
            "block5_sepconv1_act (Activation (None, None, None, 7 0           add_14[0][0]                     \n",
            "__________________________________________________________________________________________________\n",
            "block5_sepconv1 (SeparableConv2 (None, None, None, 7 536536      block5_sepconv1_act[0][0]        \n",
            "__________________________________________________________________________________________________\n",
            "block5_sepconv1_bn (BatchNormal (None, None, None, 7 2912        block5_sepconv1[0][0]            \n",
            "__________________________________________________________________________________________________\n",
            "block5_sepconv2_act (Activation (None, None, None, 7 0           block5_sepconv1_bn[0][0]         \n",
            "__________________________________________________________________________________________________\n",
            "block5_sepconv2 (SeparableConv2 (None, None, None, 7 536536      block5_sepconv2_act[0][0]        \n",
            "__________________________________________________________________________________________________\n",
            "block5_sepconv2_bn (BatchNormal (None, None, None, 7 2912        block5_sepconv2[0][0]            \n",
            "__________________________________________________________________________________________________\n",
            "block5_sepconv3_act (Activation (None, None, None, 7 0           block5_sepconv2_bn[0][0]         \n",
            "__________________________________________________________________________________________________\n",
            "block5_sepconv3 (SeparableConv2 (None, None, None, 7 536536      block5_sepconv3_act[0][0]        \n",
            "__________________________________________________________________________________________________\n",
            "block5_sepconv3_bn (BatchNormal (None, None, None, 7 2912        block5_sepconv3[0][0]            \n",
            "__________________________________________________________________________________________________\n",
            "add_15 (Add)                    (None, None, None, 7 0           block5_sepconv3_bn[0][0]         \n",
            "                                                                 add_14[0][0]                     \n",
            "__________________________________________________________________________________________________\n",
            "block6_sepconv1_act (Activation (None, None, None, 7 0           add_15[0][0]                     \n",
            "__________________________________________________________________________________________________\n",
            "block6_sepconv1 (SeparableConv2 (None, None, None, 7 536536      block6_sepconv1_act[0][0]        \n",
            "__________________________________________________________________________________________________\n",
            "block6_sepconv1_bn (BatchNormal (None, None, None, 7 2912        block6_sepconv1[0][0]            \n",
            "__________________________________________________________________________________________________\n",
            "block6_sepconv2_act (Activation (None, None, None, 7 0           block6_sepconv1_bn[0][0]         \n",
            "__________________________________________________________________________________________________\n",
            "block6_sepconv2 (SeparableConv2 (None, None, None, 7 536536      block6_sepconv2_act[0][0]        \n",
            "__________________________________________________________________________________________________\n",
            "block6_sepconv2_bn (BatchNormal (None, None, None, 7 2912        block6_sepconv2[0][0]            \n",
            "__________________________________________________________________________________________________\n",
            "block6_sepconv3_act (Activation (None, None, None, 7 0           block6_sepconv2_bn[0][0]         \n",
            "__________________________________________________________________________________________________\n",
            "block6_sepconv3 (SeparableConv2 (None, None, None, 7 536536      block6_sepconv3_act[0][0]        \n",
            "__________________________________________________________________________________________________\n",
            "block6_sepconv3_bn (BatchNormal (None, None, None, 7 2912        block6_sepconv3[0][0]            \n",
            "__________________________________________________________________________________________________\n",
            "add_16 (Add)                    (None, None, None, 7 0           block6_sepconv3_bn[0][0]         \n",
            "                                                                 add_15[0][0]                     \n",
            "__________________________________________________________________________________________________\n",
            "block7_sepconv1_act (Activation (None, None, None, 7 0           add_16[0][0]                     \n",
            "__________________________________________________________________________________________________\n",
            "block7_sepconv1 (SeparableConv2 (None, None, None, 7 536536      block7_sepconv1_act[0][0]        \n",
            "__________________________________________________________________________________________________\n",
            "block7_sepconv1_bn (BatchNormal (None, None, None, 7 2912        block7_sepconv1[0][0]            \n",
            "__________________________________________________________________________________________________\n",
            "block7_sepconv2_act (Activation (None, None, None, 7 0           block7_sepconv1_bn[0][0]         \n",
            "__________________________________________________________________________________________________\n",
            "block7_sepconv2 (SeparableConv2 (None, None, None, 7 536536      block7_sepconv2_act[0][0]        \n",
            "__________________________________________________________________________________________________\n",
            "block7_sepconv2_bn (BatchNormal (None, None, None, 7 2912        block7_sepconv2[0][0]            \n",
            "__________________________________________________________________________________________________\n",
            "block7_sepconv3_act (Activation (None, None, None, 7 0           block7_sepconv2_bn[0][0]         \n",
            "__________________________________________________________________________________________________\n",
            "block7_sepconv3 (SeparableConv2 (None, None, None, 7 536536      block7_sepconv3_act[0][0]        \n",
            "__________________________________________________________________________________________________\n",
            "block7_sepconv3_bn (BatchNormal (None, None, None, 7 2912        block7_sepconv3[0][0]            \n",
            "__________________________________________________________________________________________________\n",
            "add_17 (Add)                    (None, None, None, 7 0           block7_sepconv3_bn[0][0]         \n",
            "                                                                 add_16[0][0]                     \n",
            "__________________________________________________________________________________________________\n",
            "block8_sepconv1_act (Activation (None, None, None, 7 0           add_17[0][0]                     \n",
            "__________________________________________________________________________________________________\n",
            "block8_sepconv1 (SeparableConv2 (None, None, None, 7 536536      block8_sepconv1_act[0][0]        \n",
            "__________________________________________________________________________________________________\n",
            "block8_sepconv1_bn (BatchNormal (None, None, None, 7 2912        block8_sepconv1[0][0]            \n",
            "__________________________________________________________________________________________________\n",
            "block8_sepconv2_act (Activation (None, None, None, 7 0           block8_sepconv1_bn[0][0]         \n",
            "__________________________________________________________________________________________________\n",
            "block8_sepconv2 (SeparableConv2 (None, None, None, 7 536536      block8_sepconv2_act[0][0]        \n",
            "__________________________________________________________________________________________________\n",
            "block8_sepconv2_bn (BatchNormal (None, None, None, 7 2912        block8_sepconv2[0][0]            \n",
            "__________________________________________________________________________________________________\n",
            "block8_sepconv3_act (Activation (None, None, None, 7 0           block8_sepconv2_bn[0][0]         \n",
            "__________________________________________________________________________________________________\n",
            "block8_sepconv3 (SeparableConv2 (None, None, None, 7 536536      block8_sepconv3_act[0][0]        \n",
            "__________________________________________________________________________________________________\n",
            "block8_sepconv3_bn (BatchNormal (None, None, None, 7 2912        block8_sepconv3[0][0]            \n",
            "__________________________________________________________________________________________________\n",
            "add_18 (Add)                    (None, None, None, 7 0           block8_sepconv3_bn[0][0]         \n",
            "                                                                 add_17[0][0]                     \n",
            "__________________________________________________________________________________________________\n",
            "block9_sepconv1_act (Activation (None, None, None, 7 0           add_18[0][0]                     \n",
            "__________________________________________________________________________________________________\n",
            "block9_sepconv1 (SeparableConv2 (None, None, None, 7 536536      block9_sepconv1_act[0][0]        \n",
            "__________________________________________________________________________________________________\n",
            "block9_sepconv1_bn (BatchNormal (None, None, None, 7 2912        block9_sepconv1[0][0]            \n",
            "__________________________________________________________________________________________________\n",
            "block9_sepconv2_act (Activation (None, None, None, 7 0           block9_sepconv1_bn[0][0]         \n",
            "__________________________________________________________________________________________________\n",
            "block9_sepconv2 (SeparableConv2 (None, None, None, 7 536536      block9_sepconv2_act[0][0]        \n",
            "__________________________________________________________________________________________________\n",
            "block9_sepconv2_bn (BatchNormal (None, None, None, 7 2912        block9_sepconv2[0][0]            \n",
            "__________________________________________________________________________________________________\n",
            "block9_sepconv3_act (Activation (None, None, None, 7 0           block9_sepconv2_bn[0][0]         \n",
            "__________________________________________________________________________________________________\n",
            "block9_sepconv3 (SeparableConv2 (None, None, None, 7 536536      block9_sepconv3_act[0][0]        \n",
            "__________________________________________________________________________________________________\n",
            "block9_sepconv3_bn (BatchNormal (None, None, None, 7 2912        block9_sepconv3[0][0]            \n",
            "__________________________________________________________________________________________________\n",
            "add_19 (Add)                    (None, None, None, 7 0           block9_sepconv3_bn[0][0]         \n",
            "                                                                 add_18[0][0]                     \n",
            "__________________________________________________________________________________________________\n",
            "block10_sepconv1_act (Activatio (None, None, None, 7 0           add_19[0][0]                     \n",
            "__________________________________________________________________________________________________\n",
            "block10_sepconv1 (SeparableConv (None, None, None, 7 536536      block10_sepconv1_act[0][0]       \n",
            "__________________________________________________________________________________________________\n",
            "block10_sepconv1_bn (BatchNorma (None, None, None, 7 2912        block10_sepconv1[0][0]           \n",
            "__________________________________________________________________________________________________\n",
            "block10_sepconv2_act (Activatio (None, None, None, 7 0           block10_sepconv1_bn[0][0]        \n",
            "__________________________________________________________________________________________________\n",
            "block10_sepconv2 (SeparableConv (None, None, None, 7 536536      block10_sepconv2_act[0][0]       \n",
            "__________________________________________________________________________________________________\n",
            "block10_sepconv2_bn (BatchNorma (None, None, None, 7 2912        block10_sepconv2[0][0]           \n",
            "__________________________________________________________________________________________________\n",
            "block10_sepconv3_act (Activatio (None, None, None, 7 0           block10_sepconv2_bn[0][0]        \n",
            "__________________________________________________________________________________________________\n",
            "block10_sepconv3 (SeparableConv (None, None, None, 7 536536      block10_sepconv3_act[0][0]       \n",
            "__________________________________________________________________________________________________\n",
            "block10_sepconv3_bn (BatchNorma (None, None, None, 7 2912        block10_sepconv3[0][0]           \n",
            "__________________________________________________________________________________________________\n",
            "add_20 (Add)                    (None, None, None, 7 0           block10_sepconv3_bn[0][0]        \n",
            "                                                                 add_19[0][0]                     \n",
            "__________________________________________________________________________________________________\n",
            "block11_sepconv1_act (Activatio (None, None, None, 7 0           add_20[0][0]                     \n",
            "__________________________________________________________________________________________________\n",
            "block11_sepconv1 (SeparableConv (None, None, None, 7 536536      block11_sepconv1_act[0][0]       \n",
            "__________________________________________________________________________________________________\n",
            "block11_sepconv1_bn (BatchNorma (None, None, None, 7 2912        block11_sepconv1[0][0]           \n",
            "__________________________________________________________________________________________________\n",
            "block11_sepconv2_act (Activatio (None, None, None, 7 0           block11_sepconv1_bn[0][0]        \n",
            "__________________________________________________________________________________________________\n",
            "block11_sepconv2 (SeparableConv (None, None, None, 7 536536      block11_sepconv2_act[0][0]       \n",
            "__________________________________________________________________________________________________\n",
            "block11_sepconv2_bn (BatchNorma (None, None, None, 7 2912        block11_sepconv2[0][0]           \n",
            "__________________________________________________________________________________________________\n",
            "block11_sepconv3_act (Activatio (None, None, None, 7 0           block11_sepconv2_bn[0][0]        \n",
            "__________________________________________________________________________________________________\n",
            "block11_sepconv3 (SeparableConv (None, None, None, 7 536536      block11_sepconv3_act[0][0]       \n",
            "__________________________________________________________________________________________________\n",
            "block11_sepconv3_bn (BatchNorma (None, None, None, 7 2912        block11_sepconv3[0][0]           \n",
            "__________________________________________________________________________________________________\n",
            "add_21 (Add)                    (None, None, None, 7 0           block11_sepconv3_bn[0][0]        \n",
            "                                                                 add_20[0][0]                     \n",
            "__________________________________________________________________________________________________\n",
            "block12_sepconv1_act (Activatio (None, None, None, 7 0           add_21[0][0]                     \n",
            "__________________________________________________________________________________________________\n",
            "block12_sepconv1 (SeparableConv (None, None, None, 7 536536      block12_sepconv1_act[0][0]       \n",
            "__________________________________________________________________________________________________\n",
            "block12_sepconv1_bn (BatchNorma (None, None, None, 7 2912        block12_sepconv1[0][0]           \n",
            "__________________________________________________________________________________________________\n",
            "block12_sepconv2_act (Activatio (None, None, None, 7 0           block12_sepconv1_bn[0][0]        \n",
            "__________________________________________________________________________________________________\n",
            "block12_sepconv2 (SeparableConv (None, None, None, 7 536536      block12_sepconv2_act[0][0]       \n",
            "__________________________________________________________________________________________________\n",
            "block12_sepconv2_bn (BatchNorma (None, None, None, 7 2912        block12_sepconv2[0][0]           \n",
            "__________________________________________________________________________________________________\n",
            "block12_sepconv3_act (Activatio (None, None, None, 7 0           block12_sepconv2_bn[0][0]        \n",
            "__________________________________________________________________________________________________\n",
            "block12_sepconv3 (SeparableConv (None, None, None, 7 536536      block12_sepconv3_act[0][0]       \n",
            "__________________________________________________________________________________________________\n",
            "block12_sepconv3_bn (BatchNorma (None, None, None, 7 2912        block12_sepconv3[0][0]           \n",
            "__________________________________________________________________________________________________\n",
            "add_22 (Add)                    (None, None, None, 7 0           block12_sepconv3_bn[0][0]        \n",
            "                                                                 add_21[0][0]                     \n",
            "__________________________________________________________________________________________________\n",
            "block13_sepconv1_act (Activatio (None, None, None, 7 0           add_22[0][0]                     \n",
            "__________________________________________________________________________________________________\n",
            "block13_sepconv1 (SeparableConv (None, None, None, 7 536536      block13_sepconv1_act[0][0]       \n",
            "__________________________________________________________________________________________________\n",
            "block13_sepconv1_bn (BatchNorma (None, None, None, 7 2912        block13_sepconv1[0][0]           \n",
            "__________________________________________________________________________________________________\n",
            "block13_sepconv2_act (Activatio (None, None, None, 7 0           block13_sepconv1_bn[0][0]        \n",
            "__________________________________________________________________________________________________\n",
            "block13_sepconv2 (SeparableConv (None, None, None, 1 752024      block13_sepconv2_act[0][0]       \n",
            "__________________________________________________________________________________________________\n",
            "block13_sepconv2_bn (BatchNorma (None, None, None, 1 4096        block13_sepconv2[0][0]           \n",
            "__________________________________________________________________________________________________\n",
            "conv2d_19 (Conv2D)              (None, None, None, 1 745472      add_22[0][0]                     \n",
            "__________________________________________________________________________________________________\n",
            "block13_pool (MaxPooling2D)     (None, None, None, 1 0           block13_sepconv2_bn[0][0]        \n",
            "__________________________________________________________________________________________________\n",
            "batch_normalization_7 (BatchNor (None, None, None, 1 4096        conv2d_19[0][0]                  \n",
            "__________________________________________________________________________________________________\n",
            "add_23 (Add)                    (None, None, None, 1 0           block13_pool[0][0]               \n",
            "                                                                 batch_normalization_7[0][0]      \n",
            "__________________________________________________________________________________________________\n",
            "block14_sepconv1 (SeparableConv (None, None, None, 1 1582080     add_23[0][0]                     \n",
            "__________________________________________________________________________________________________\n",
            "block14_sepconv1_bn (BatchNorma (None, None, None, 1 6144        block14_sepconv1[0][0]           \n",
            "__________________________________________________________________________________________________\n",
            "block14_sepconv1_act (Activatio (None, None, None, 1 0           block14_sepconv1_bn[0][0]        \n",
            "__________________________________________________________________________________________________\n",
            "block14_sepconv2 (SeparableConv (None, None, None, 2 3159552     block14_sepconv1_act[0][0]       \n",
            "__________________________________________________________________________________________________\n",
            "block14_sepconv2_bn (BatchNorma (None, None, None, 2 8192        block14_sepconv2[0][0]           \n",
            "__________________________________________________________________________________________________\n",
            "block14_sepconv2_act (Activatio (None, None, None, 2 0           block14_sepconv2_bn[0][0]        \n",
            "__________________________________________________________________________________________________\n",
            "global_average_pooling2d (Globa (None, 2048)         0           block14_sepconv2_act[0][0]       \n",
            "__________________________________________________________________________________________________\n",
            "dropout_6 (Dropout)             (None, 2048)         0           global_average_pooling2d[0][0]   \n",
            "__________________________________________________________________________________________________\n",
            "dense_6 (Dense)                 (None, 3)            6147        dropout_6[0][0]                  \n",
            "==================================================================================================\n",
            "Total params: 20,867,627\n",
            "Trainable params: 20,813,099\n",
            "Non-trainable params: 54,528\n",
            "__________________________________________________________________________________________________\n"
          ],
          "name": "stdout"
        }
      ]
    },
    {
      "cell_type": "code",
      "metadata": {
        "id": "SMB21wJZJ8Xd"
      },
      "source": [
        "# Compile Xception model\n",
        "Xception_model.compile(loss='categorical_crossentropy', optimizer=SGD(lr=.0001, momentum=0.9), metrics=['accuracy'])"
      ],
      "execution_count": 43,
      "outputs": []
    },
    {
      "cell_type": "code",
      "metadata": {
        "colab": {
          "base_uri": "https://localhost:8080/"
        },
        "id": "p9vE-IAzKEwg",
        "outputId": "b6afa873-6f99-41c4-9520-48b04ee73221"
      },
      "source": [
        "# Use Keras ModelCheckpoint to save the best model\n",
        "checkpoint_filepath_2 = tmp_checkpoint_dir_2\n",
        "model_checkpoint_callback_2 = ModelCheckpoint(\n",
        "    filepath = checkpoint_filepath_2,\n",
        "    monitor='val_accuracy',\n",
        "    verbose=1,\n",
        "    save_best_only=True,\n",
        "    mode='max',\n",
        " )\n",
        "callback_list_2 = [model_checkpoint_callback_2]\n",
        "\n",
        "Xception_history = Xception_model.fit_generator(\n",
        "    train_generator,\n",
        "    epochs=epochs,\n",
        "    callbacks = callback_list_2,\n",
        "    validation_data=validation_generator,\n",
        "    steps_per_epoch=training_sample_size // batch_size,\n",
        "    validation_steps=validation_sample_size // batch_size,\n",
        ")"
      ],
      "execution_count": 45,
      "outputs": [
        {
          "output_type": "stream",
          "text": [
            "/usr/local/lib/python3.7/dist-packages/tensorflow/python/keras/engine/training.py:1844: UserWarning: `Model.fit_generator` is deprecated and will be removed in a future version. Please use `Model.fit`, which supports generators.\n",
            "  warnings.warn('`Model.fit_generator` is deprecated and '\n"
          ],
          "name": "stderr"
        },
        {
          "output_type": "stream",
          "text": [
            "Epoch 1/20\n",
            "173/173 [==============================] - 127s 705ms/step - loss: 1.0992 - accuracy: 0.3703 - val_loss: 1.0778 - val_accuracy: 0.4531\n",
            "\n",
            "Epoch 00001: val_accuracy improved from -inf to 0.45312, saving model to /content/gdrive/My Drive/Colab Notebooks/images/tmp/checkpoint_2\n",
            "INFO:tensorflow:Assets written to: /content/gdrive/My Drive/Colab Notebooks/images/tmp/checkpoint_2/assets\n",
            "Epoch 2/20\n",
            "173/173 [==============================] - 125s 724ms/step - loss: 1.0971 - accuracy: 0.3999 - val_loss: 1.0647 - val_accuracy: 0.4648\n",
            "\n",
            "Epoch 00002: val_accuracy improved from 0.45312 to 0.46484, saving model to /content/gdrive/My Drive/Colab Notebooks/images/tmp/checkpoint_2\n",
            "INFO:tensorflow:Assets written to: /content/gdrive/My Drive/Colab Notebooks/images/tmp/checkpoint_2/assets\n",
            "Epoch 3/20\n",
            "173/173 [==============================] - 127s 735ms/step - loss: 1.0925 - accuracy: 0.3978 - val_loss: 1.0636 - val_accuracy: 0.4395\n",
            "\n",
            "Epoch 00003: val_accuracy did not improve from 0.46484\n",
            "Epoch 4/20\n",
            "173/173 [==============================] - 130s 749ms/step - loss: 1.0809 - accuracy: 0.4171 - val_loss: 1.0637 - val_accuracy: 0.4141\n",
            "\n",
            "Epoch 00004: val_accuracy did not improve from 0.46484\n",
            "Epoch 5/20\n",
            "173/173 [==============================] - 134s 776ms/step - loss: 1.0714 - accuracy: 0.4200 - val_loss: 1.0596 - val_accuracy: 0.4395\n",
            "\n",
            "Epoch 00005: val_accuracy did not improve from 0.46484\n",
            "Epoch 6/20\n",
            "173/173 [==============================] - 135s 780ms/step - loss: 1.0570 - accuracy: 0.4390 - val_loss: 1.0574 - val_accuracy: 0.4492\n",
            "\n",
            "Epoch 00006: val_accuracy did not improve from 0.46484\n",
            "Epoch 7/20\n",
            "173/173 [==============================] - 135s 778ms/step - loss: 1.0617 - accuracy: 0.4324 - val_loss: 1.0559 - val_accuracy: 0.4531\n",
            "\n",
            "Epoch 00007: val_accuracy did not improve from 0.46484\n",
            "Epoch 8/20\n",
            "173/173 [==============================] - 134s 777ms/step - loss: 1.0570 - accuracy: 0.4402 - val_loss: 1.0568 - val_accuracy: 0.4395\n",
            "\n",
            "Epoch 00008: val_accuracy did not improve from 0.46484\n",
            "Epoch 9/20\n",
            "173/173 [==============================] - 135s 778ms/step - loss: 1.0476 - accuracy: 0.4514 - val_loss: 1.0599 - val_accuracy: 0.4355\n",
            "\n",
            "Epoch 00009: val_accuracy did not improve from 0.46484\n",
            "Epoch 10/20\n",
            "173/173 [==============================] - 135s 778ms/step - loss: 1.0418 - accuracy: 0.4653 - val_loss: 1.0574 - val_accuracy: 0.4336\n",
            "\n",
            "Epoch 00010: val_accuracy did not improve from 0.46484\n",
            "Epoch 11/20\n",
            "173/173 [==============================] - 135s 781ms/step - loss: 1.0409 - accuracy: 0.4637 - val_loss: 1.0564 - val_accuracy: 0.4629\n",
            "\n",
            "Epoch 00011: val_accuracy did not improve from 0.46484\n",
            "Epoch 12/20\n",
            "173/173 [==============================] - 135s 779ms/step - loss: 1.0322 - accuracy: 0.4730 - val_loss: 1.0531 - val_accuracy: 0.4453\n",
            "\n",
            "Epoch 00012: val_accuracy did not improve from 0.46484\n",
            "Epoch 13/20\n",
            "173/173 [==============================] - 135s 781ms/step - loss: 1.0213 - accuracy: 0.4811 - val_loss: 1.0585 - val_accuracy: 0.4355\n",
            "\n",
            "Epoch 00013: val_accuracy did not improve from 0.46484\n",
            "Epoch 14/20\n",
            "173/173 [==============================] - 135s 779ms/step - loss: 1.0139 - accuracy: 0.4814 - val_loss: 1.0542 - val_accuracy: 0.4355\n",
            "\n",
            "Epoch 00014: val_accuracy did not improve from 0.46484\n",
            "Epoch 15/20\n",
            "173/173 [==============================] - 135s 782ms/step - loss: 1.0010 - accuracy: 0.4979 - val_loss: 1.0573 - val_accuracy: 0.4375\n",
            "\n",
            "Epoch 00015: val_accuracy did not improve from 0.46484\n",
            "Epoch 16/20\n",
            "173/173 [==============================] - 135s 782ms/step - loss: 0.9966 - accuracy: 0.5154 - val_loss: 1.0598 - val_accuracy: 0.4121\n",
            "\n",
            "Epoch 00016: val_accuracy did not improve from 0.46484\n",
            "Epoch 17/20\n",
            "173/173 [==============================] - 135s 779ms/step - loss: 0.9934 - accuracy: 0.5195 - val_loss: 1.0599 - val_accuracy: 0.4082\n",
            "\n",
            "Epoch 00017: val_accuracy did not improve from 0.46484\n",
            "Epoch 18/20\n",
            "173/173 [==============================] - 133s 767ms/step - loss: 0.9816 - accuracy: 0.5132 - val_loss: 1.0562 - val_accuracy: 0.4199\n",
            "\n",
            "Epoch 00018: val_accuracy did not improve from 0.46484\n",
            "Epoch 19/20\n",
            "173/173 [==============================] - 132s 764ms/step - loss: 0.9745 - accuracy: 0.5242 - val_loss: 1.0614 - val_accuracy: 0.4121\n",
            "\n",
            "Epoch 00019: val_accuracy did not improve from 0.46484\n",
            "Epoch 20/20\n",
            "173/173 [==============================] - 132s 762ms/step - loss: 0.9649 - accuracy: 0.5267 - val_loss: 1.0581 - val_accuracy: 0.4297\n",
            "\n",
            "Epoch 00020: val_accuracy did not improve from 0.46484\n"
          ],
          "name": "stdout"
        }
      ]
    },
    {
      "cell_type": "markdown",
      "metadata": {
        "id": "fI-ZYTm-MEyD"
      },
      "source": [
        "# Xception Model Evaluation"
      ]
    },
    {
      "cell_type": "code",
      "metadata": {
        "colab": {
          "base_uri": "https://localhost:8080/",
          "height": 458
        },
        "id": "5JtQ7CZeQe_F",
        "outputId": "a9380059-9ac7-4ce6-c936-bd1260e1d51a"
      },
      "source": [
        "\n",
        "# Plot accuracy and loss to visualize model results\n",
        "\n",
        "plt.figure(figsize=(14,7))\n",
        "\n",
        "plt.subplot(1,2,1)\n",
        "plt.plot(Xception_history.history['accuracy'], color='b')\n",
        "plt.plot(Xception_history.history['val_accuracy'], color='r')\n",
        "plt.title('Model Accuracy')\n",
        "plt.ylabel('Accuracy')\n",
        "plt.xlabel('Epoch')\n",
        "plt.legend(['Train', 'Test'], loc='best')\n",
        "\n",
        "plt.subplot(1,2,2)\n",
        "plt.plot(Xception_history.history['loss'], color='b')\n",
        "plt.plot(Xception_history.history['val_loss'], color='r')\n",
        "plt.title('Model Loss')\n",
        "plt.ylabel('Loss')\n",
        "plt.xlabel('Epoch')\n",
        "plt.legend(['Train', 'Test'], loc='best')\n",
        "plt.show()\n",
        "\n",
        "plt.show()"
      ],
      "execution_count": 46,
      "outputs": [
        {
          "output_type": "display_data",
          "data": {
            "image/png": "[encoded data removed]",
            "text/plain": [
              "<Figure size 1008x504 with 2 Axes>"
            ]
          },
          "metadata": {
            "tags": [],
            "needs_background": "light"
          }
        }
      ]
    },
    {
      "cell_type": "markdown",
      "metadata": {
        "id": "VNbNrCXV9VxZ"
      },
      "source": [
        "The Xception model looks about the same as the Previous CNN model. It looks like I could have used more epochs to see where these curves are going to plateau. However, experimenting with more epochs on this model is much more costly that with the first CNN and nearly every model I evaluated had the same characteristic flaws as I mentioned above when evaluating the first CNN's performance with accuracy and loss. It does look like it will 2-3 take more iterations than the first CNN model to reach near the curves plateaus. This may be an indication of stability of the model and training process. This means there's a higher probability that working with this model to improve its performance will lead to a higher performing model overall."
      ]
    },
    {
      "cell_type": "code",
      "metadata": {
        "id": "dOf3vVCdRl15"
      },
      "source": [
        "# Save model weights and architecture\n",
        "Xception_model.save(\"xception_predict_day_market.h5\")"
      ],
      "execution_count": 51,
      "outputs": []
    },
    {
      "cell_type": "code",
      "metadata": {
        "id": "15GECsTtRvjD"
      },
      "source": [
        "# Load saved model\n",
        "trained_Xception_model = load_model(\"xception_predict_day_market.h5\")"
      ],
      "execution_count": 52,
      "outputs": []
    },
    {
      "cell_type": "code",
      "metadata": {
        "colab": {
          "base_uri": "https://localhost:8080/"
        },
        "id": "5uLqjaK7R2-3",
        "outputId": "6d98ec87-f3b8-419e-b2b0-0a6422fdd6b4"
      },
      "source": [
        "# Model summary\n",
        "trained_Xception_model.summary()"
      ],
      "execution_count": 53,
      "outputs": [
        {
          "output_type": "stream",
          "text": [
            "Model: \"model\"\n",
            "__________________________________________________________________________________________________\n",
            "Layer (type)                    Output Shape         Param #     Connected to                     \n",
            "==================================================================================================\n",
            "input_2 (InputLayer)            [(None, None, None,  0                                            \n",
            "__________________________________________________________________________________________________\n",
            "block1_conv1 (Conv2D)           (None, None, None, 3 864         input_2[0][0]                    \n",
            "__________________________________________________________________________________________________\n",
            "block1_conv1_bn (BatchNormaliza (None, None, None, 3 128         block1_conv1[0][0]               \n",
            "__________________________________________________________________________________________________\n",
            "block1_conv1_act (Activation)   (None, None, None, 3 0           block1_conv1_bn[0][0]            \n",
            "__________________________________________________________________________________________________\n",
            "block1_conv2 (Conv2D)           (None, None, None, 6 18432       block1_conv1_act[0][0]           \n",
            "__________________________________________________________________________________________________\n",
            "block1_conv2_bn (BatchNormaliza (None, None, None, 6 256         block1_conv2[0][0]               \n",
            "__________________________________________________________________________________________________\n",
            "block1_conv2_act (Activation)   (None, None, None, 6 0           block1_conv2_bn[0][0]            \n",
            "__________________________________________________________________________________________________\n",
            "block2_sepconv1 (SeparableConv2 (None, None, None, 1 8768        block1_conv2_act[0][0]           \n",
            "__________________________________________________________________________________________________\n",
            "block2_sepconv1_bn (BatchNormal (None, None, None, 1 512         block2_sepconv1[0][0]            \n",
            "__________________________________________________________________________________________________\n",
            "block2_sepconv2_act (Activation (None, None, None, 1 0           block2_sepconv1_bn[0][0]         \n",
            "__________________________________________________________________________________________________\n",
            "block2_sepconv2 (SeparableConv2 (None, None, None, 1 17536       block2_sepconv2_act[0][0]        \n",
            "__________________________________________________________________________________________________\n",
            "block2_sepconv2_bn (BatchNormal (None, None, None, 1 512         block2_sepconv2[0][0]            \n",
            "__________________________________________________________________________________________________\n",
            "conv2d_16 (Conv2D)              (None, None, None, 1 8192        block1_conv2_act[0][0]           \n",
            "__________________________________________________________________________________________________\n",
            "block2_pool (MaxPooling2D)      (None, None, None, 1 0           block2_sepconv2_bn[0][0]         \n",
            "__________________________________________________________________________________________________\n",
            "batch_normalization_4 (BatchNor (None, None, None, 1 512         conv2d_16[0][0]                  \n",
            "__________________________________________________________________________________________________\n",
            "add_12 (Add)                    (None, None, None, 1 0           block2_pool[0][0]                \n",
            "                                                                 batch_normalization_4[0][0]      \n",
            "__________________________________________________________________________________________________\n",
            "block3_sepconv1_act (Activation (None, None, None, 1 0           add_12[0][0]                     \n",
            "__________________________________________________________________________________________________\n",
            "block3_sepconv1 (SeparableConv2 (None, None, None, 2 33920       block3_sepconv1_act[0][0]        \n",
            "__________________________________________________________________________________________________\n",
            "block3_sepconv1_bn (BatchNormal (None, None, None, 2 1024        block3_sepconv1[0][0]            \n",
            "__________________________________________________________________________________________________\n",
            "block3_sepconv2_act (Activation (None, None, None, 2 0           block3_sepconv1_bn[0][0]         \n",
            "__________________________________________________________________________________________________\n",
            "block3_sepconv2 (SeparableConv2 (None, None, None, 2 67840       block3_sepconv2_act[0][0]        \n",
            "__________________________________________________________________________________________________\n",
            "block3_sepconv2_bn (BatchNormal (None, None, None, 2 1024        block3_sepconv2[0][0]            \n",
            "__________________________________________________________________________________________________\n",
            "conv2d_17 (Conv2D)              (None, None, None, 2 32768       add_12[0][0]                     \n",
            "__________________________________________________________________________________________________\n",
            "block3_pool (MaxPooling2D)      (None, None, None, 2 0           block3_sepconv2_bn[0][0]         \n",
            "__________________________________________________________________________________________________\n",
            "batch_normalization_5 (BatchNor (None, None, None, 2 1024        conv2d_17[0][0]                  \n",
            "__________________________________________________________________________________________________\n",
            "add_13 (Add)                    (None, None, None, 2 0           block3_pool[0][0]                \n",
            "                                                                 batch_normalization_5[0][0]      \n",
            "__________________________________________________________________________________________________\n",
            "block4_sepconv1_act (Activation (None, None, None, 2 0           add_13[0][0]                     \n",
            "__________________________________________________________________________________________________\n",
            "block4_sepconv1 (SeparableConv2 (None, None, None, 7 188672      block4_sepconv1_act[0][0]        \n",
            "__________________________________________________________________________________________________\n",
            "block4_sepconv1_bn (BatchNormal (None, None, None, 7 2912        block4_sepconv1[0][0]            \n",
            "__________________________________________________________________________________________________\n",
            "block4_sepconv2_act (Activation (None, None, None, 7 0           block4_sepconv1_bn[0][0]         \n",
            "__________________________________________________________________________________________________\n",
            "block4_sepconv2 (SeparableConv2 (None, None, None, 7 536536      block4_sepconv2_act[0][0]        \n",
            "__________________________________________________________________________________________________\n",
            "block4_sepconv2_bn (BatchNormal (None, None, None, 7 2912        block4_sepconv2[0][0]            \n",
            "__________________________________________________________________________________________________\n",
            "conv2d_18 (Conv2D)              (None, None, None, 7 186368      add_13[0][0]                     \n",
            "__________________________________________________________________________________________________\n",
            "block4_pool (MaxPooling2D)      (None, None, None, 7 0           block4_sepconv2_bn[0][0]         \n",
            "__________________________________________________________________________________________________\n",
            "batch_normalization_6 (BatchNor (None, None, None, 7 2912        conv2d_18[0][0]                  \n",
            "__________________________________________________________________________________________________\n",
            "add_14 (Add)                    (None, None, None, 7 0           block4_pool[0][0]                \n",
            "                                                                 batch_normalization_6[0][0]      \n",
            "__________________________________________________________________________________________________\n",
            "block5_sepconv1_act (Activation (None, None, None, 7 0           add_14[0][0]                     \n",
            "__________________________________________________________________________________________________\n",
            "block5_sepconv1 (SeparableConv2 (None, None, None, 7 536536      block5_sepconv1_act[0][0]        \n",
            "__________________________________________________________________________________________________\n",
            "block5_sepconv1_bn (BatchNormal (None, None, None, 7 2912        block5_sepconv1[0][0]            \n",
            "__________________________________________________________________________________________________\n",
            "block5_sepconv2_act (Activation (None, None, None, 7 0           block5_sepconv1_bn[0][0]         \n",
            "__________________________________________________________________________________________________\n",
            "block5_sepconv2 (SeparableConv2 (None, None, None, 7 536536      block5_sepconv2_act[0][0]        \n",
            "__________________________________________________________________________________________________\n",
            "block5_sepconv2_bn (BatchNormal (None, None, None, 7 2912        block5_sepconv2[0][0]            \n",
            "__________________________________________________________________________________________________\n",
            "block5_sepconv3_act (Activation (None, None, None, 7 0           block5_sepconv2_bn[0][0]         \n",
            "__________________________________________________________________________________________________\n",
            "block5_sepconv3 (SeparableConv2 (None, None, None, 7 536536      block5_sepconv3_act[0][0]        \n",
            "__________________________________________________________________________________________________\n",
            "block5_sepconv3_bn (BatchNormal (None, None, None, 7 2912        block5_sepconv3[0][0]            \n",
            "__________________________________________________________________________________________________\n",
            "add_15 (Add)                    (None, None, None, 7 0           block5_sepconv3_bn[0][0]         \n",
            "                                                                 add_14[0][0]                     \n",
            "__________________________________________________________________________________________________\n",
            "block6_sepconv1_act (Activation (None, None, None, 7 0           add_15[0][0]                     \n",
            "__________________________________________________________________________________________________\n",
            "block6_sepconv1 (SeparableConv2 (None, None, None, 7 536536      block6_sepconv1_act[0][0]        \n",
            "__________________________________________________________________________________________________\n",
            "block6_sepconv1_bn (BatchNormal (None, None, None, 7 2912        block6_sepconv1[0][0]            \n",
            "__________________________________________________________________________________________________\n",
            "block6_sepconv2_act (Activation (None, None, None, 7 0           block6_sepconv1_bn[0][0]         \n",
            "__________________________________________________________________________________________________\n",
            "block6_sepconv2 (SeparableConv2 (None, None, None, 7 536536      block6_sepconv2_act[0][0]        \n",
            "__________________________________________________________________________________________________\n",
            "block6_sepconv2_bn (BatchNormal (None, None, None, 7 2912        block6_sepconv2[0][0]            \n",
            "__________________________________________________________________________________________________\n",
            "block6_sepconv3_act (Activation (None, None, None, 7 0           block6_sepconv2_bn[0][0]         \n",
            "__________________________________________________________________________________________________\n",
            "block6_sepconv3 (SeparableConv2 (None, None, None, 7 536536      block6_sepconv3_act[0][0]        \n",
            "__________________________________________________________________________________________________\n",
            "block6_sepconv3_bn (BatchNormal (None, None, None, 7 2912        block6_sepconv3[0][0]            \n",
            "__________________________________________________________________________________________________\n",
            "add_16 (Add)                    (None, None, None, 7 0           block6_sepconv3_bn[0][0]         \n",
            "                                                                 add_15[0][0]                     \n",
            "__________________________________________________________________________________________________\n",
            "block7_sepconv1_act (Activation (None, None, None, 7 0           add_16[0][0]                     \n",
            "__________________________________________________________________________________________________\n",
            "block7_sepconv1 (SeparableConv2 (None, None, None, 7 536536      block7_sepconv1_act[0][0]        \n",
            "__________________________________________________________________________________________________\n",
            "block7_sepconv1_bn (BatchNormal (None, None, None, 7 2912        block7_sepconv1[0][0]            \n",
            "__________________________________________________________________________________________________\n",
            "block7_sepconv2_act (Activation (None, None, None, 7 0           block7_sepconv1_bn[0][0]         \n",
            "__________________________________________________________________________________________________\n",
            "block7_sepconv2 (SeparableConv2 (None, None, None, 7 536536      block7_sepconv2_act[0][0]        \n",
            "__________________________________________________________________________________________________\n",
            "block7_sepconv2_bn (BatchNormal (None, None, None, 7 2912        block7_sepconv2[0][0]            \n",
            "__________________________________________________________________________________________________\n",
            "block7_sepconv3_act (Activation (None, None, None, 7 0           block7_sepconv2_bn[0][0]         \n",
            "__________________________________________________________________________________________________\n",
            "block7_sepconv3 (SeparableConv2 (None, None, None, 7 536536      block7_sepconv3_act[0][0]        \n",
            "__________________________________________________________________________________________________\n",
            "block7_sepconv3_bn (BatchNormal (None, None, None, 7 2912        block7_sepconv3[0][0]            \n",
            "__________________________________________________________________________________________________\n",
            "add_17 (Add)                    (None, None, None, 7 0           block7_sepconv3_bn[0][0]         \n",
            "                                                                 add_16[0][0]                     \n",
            "__________________________________________________________________________________________________\n",
            "block8_sepconv1_act (Activation (None, None, None, 7 0           add_17[0][0]                     \n",
            "__________________________________________________________________________________________________\n",
            "block8_sepconv1 (SeparableConv2 (None, None, None, 7 536536      block8_sepconv1_act[0][0]        \n",
            "__________________________________________________________________________________________________\n",
            "block8_sepconv1_bn (BatchNormal (None, None, None, 7 2912        block8_sepconv1[0][0]            \n",
            "__________________________________________________________________________________________________\n",
            "block8_sepconv2_act (Activation (None, None, None, 7 0           block8_sepconv1_bn[0][0]         \n",
            "__________________________________________________________________________________________________\n",
            "block8_sepconv2 (SeparableConv2 (None, None, None, 7 536536      block8_sepconv2_act[0][0]        \n",
            "__________________________________________________________________________________________________\n",
            "block8_sepconv2_bn (BatchNormal (None, None, None, 7 2912        block8_sepconv2[0][0]            \n",
            "__________________________________________________________________________________________________\n",
            "block8_sepconv3_act (Activation (None, None, None, 7 0           block8_sepconv2_bn[0][0]         \n",
            "__________________________________________________________________________________________________\n",
            "block8_sepconv3 (SeparableConv2 (None, None, None, 7 536536      block8_sepconv3_act[0][0]        \n",
            "__________________________________________________________________________________________________\n",
            "block8_sepconv3_bn (BatchNormal (None, None, None, 7 2912        block8_sepconv3[0][0]            \n",
            "__________________________________________________________________________________________________\n",
            "add_18 (Add)                    (None, None, None, 7 0           block8_sepconv3_bn[0][0]         \n",
            "                                                                 add_17[0][0]                     \n",
            "__________________________________________________________________________________________________\n",
            "block9_sepconv1_act (Activation (None, None, None, 7 0           add_18[0][0]                     \n",
            "__________________________________________________________________________________________________\n",
            "block9_sepconv1 (SeparableConv2 (None, None, None, 7 536536      block9_sepconv1_act[0][0]        \n",
            "__________________________________________________________________________________________________\n",
            "block9_sepconv1_bn (BatchNormal (None, None, None, 7 2912        block9_sepconv1[0][0]            \n",
            "__________________________________________________________________________________________________\n",
            "block9_sepconv2_act (Activation (None, None, None, 7 0           block9_sepconv1_bn[0][0]         \n",
            "__________________________________________________________________________________________________\n",
            "block9_sepconv2 (SeparableConv2 (None, None, None, 7 536536      block9_sepconv2_act[0][0]        \n",
            "__________________________________________________________________________________________________\n",
            "block9_sepconv2_bn (BatchNormal (None, None, None, 7 2912        block9_sepconv2[0][0]            \n",
            "__________________________________________________________________________________________________\n",
            "block9_sepconv3_act (Activation (None, None, None, 7 0           block9_sepconv2_bn[0][0]         \n",
            "__________________________________________________________________________________________________\n",
            "block9_sepconv3 (SeparableConv2 (None, None, None, 7 536536      block9_sepconv3_act[0][0]        \n",
            "__________________________________________________________________________________________________\n",
            "block9_sepconv3_bn (BatchNormal (None, None, None, 7 2912        block9_sepconv3[0][0]            \n",
            "__________________________________________________________________________________________________\n",
            "add_19 (Add)                    (None, None, None, 7 0           block9_sepconv3_bn[0][0]         \n",
            "                                                                 add_18[0][0]                     \n",
            "__________________________________________________________________________________________________\n",
            "block10_sepconv1_act (Activatio (None, None, None, 7 0           add_19[0][0]                     \n",
            "__________________________________________________________________________________________________\n",
            "block10_sepconv1 (SeparableConv (None, None, None, 7 536536      block10_sepconv1_act[0][0]       \n",
            "__________________________________________________________________________________________________\n",
            "block10_sepconv1_bn (BatchNorma (None, None, None, 7 2912        block10_sepconv1[0][0]           \n",
            "__________________________________________________________________________________________________\n",
            "block10_sepconv2_act (Activatio (None, None, None, 7 0           block10_sepconv1_bn[0][0]        \n",
            "__________________________________________________________________________________________________\n",
            "block10_sepconv2 (SeparableConv (None, None, None, 7 536536      block10_sepconv2_act[0][0]       \n",
            "__________________________________________________________________________________________________\n",
            "block10_sepconv2_bn (BatchNorma (None, None, None, 7 2912        block10_sepconv2[0][0]           \n",
            "__________________________________________________________________________________________________\n",
            "block10_sepconv3_act (Activatio (None, None, None, 7 0           block10_sepconv2_bn[0][0]        \n",
            "__________________________________________________________________________________________________\n",
            "block10_sepconv3 (SeparableConv (None, None, None, 7 536536      block10_sepconv3_act[0][0]       \n",
            "__________________________________________________________________________________________________\n",
            "block10_sepconv3_bn (BatchNorma (None, None, None, 7 2912        block10_sepconv3[0][0]           \n",
            "__________________________________________________________________________________________________\n",
            "add_20 (Add)                    (None, None, None, 7 0           block10_sepconv3_bn[0][0]        \n",
            "                                                                 add_19[0][0]                     \n",
            "__________________________________________________________________________________________________\n",
            "block11_sepconv1_act (Activatio (None, None, None, 7 0           add_20[0][0]                     \n",
            "__________________________________________________________________________________________________\n",
            "block11_sepconv1 (SeparableConv (None, None, None, 7 536536      block11_sepconv1_act[0][0]       \n",
            "__________________________________________________________________________________________________\n",
            "block11_sepconv1_bn (BatchNorma (None, None, None, 7 2912        block11_sepconv1[0][0]           \n",
            "__________________________________________________________________________________________________\n",
            "block11_sepconv2_act (Activatio (None, None, None, 7 0           block11_sepconv1_bn[0][0]        \n",
            "__________________________________________________________________________________________________\n",
            "block11_sepconv2 (SeparableConv (None, None, None, 7 536536      block11_sepconv2_act[0][0]       \n",
            "__________________________________________________________________________________________________\n",
            "block11_sepconv2_bn (BatchNorma (None, None, None, 7 2912        block11_sepconv2[0][0]           \n",
            "__________________________________________________________________________________________________\n",
            "block11_sepconv3_act (Activatio (None, None, None, 7 0           block11_sepconv2_bn[0][0]        \n",
            "__________________________________________________________________________________________________\n",
            "block11_sepconv3 (SeparableConv (None, None, None, 7 536536      block11_sepconv3_act[0][0]       \n",
            "__________________________________________________________________________________________________\n",
            "block11_sepconv3_bn (BatchNorma (None, None, None, 7 2912        block11_sepconv3[0][0]           \n",
            "__________________________________________________________________________________________________\n",
            "add_21 (Add)                    (None, None, None, 7 0           block11_sepconv3_bn[0][0]        \n",
            "                                                                 add_20[0][0]                     \n",
            "__________________________________________________________________________________________________\n",
            "block12_sepconv1_act (Activatio (None, None, None, 7 0           add_21[0][0]                     \n",
            "__________________________________________________________________________________________________\n",
            "block12_sepconv1 (SeparableConv (None, None, None, 7 536536      block12_sepconv1_act[0][0]       \n",
            "__________________________________________________________________________________________________\n",
            "block12_sepconv1_bn (BatchNorma (None, None, None, 7 2912        block12_sepconv1[0][0]           \n",
            "__________________________________________________________________________________________________\n",
            "block12_sepconv2_act (Activatio (None, None, None, 7 0           block12_sepconv1_bn[0][0]        \n",
            "__________________________________________________________________________________________________\n",
            "block12_sepconv2 (SeparableConv (None, None, None, 7 536536      block12_sepconv2_act[0][0]       \n",
            "__________________________________________________________________________________________________\n",
            "block12_sepconv2_bn (BatchNorma (None, None, None, 7 2912        block12_sepconv2[0][0]           \n",
            "__________________________________________________________________________________________________\n",
            "block12_sepconv3_act (Activatio (None, None, None, 7 0           block12_sepconv2_bn[0][0]        \n",
            "__________________________________________________________________________________________________\n",
            "block12_sepconv3 (SeparableConv (None, None, None, 7 536536      block12_sepconv3_act[0][0]       \n",
            "__________________________________________________________________________________________________\n",
            "block12_sepconv3_bn (BatchNorma (None, None, None, 7 2912        block12_sepconv3[0][0]           \n",
            "__________________________________________________________________________________________________\n",
            "add_22 (Add)                    (None, None, None, 7 0           block12_sepconv3_bn[0][0]        \n",
            "                                                                 add_21[0][0]                     \n",
            "__________________________________________________________________________________________________\n",
            "block13_sepconv1_act (Activatio (None, None, None, 7 0           add_22[0][0]                     \n",
            "__________________________________________________________________________________________________\n",
            "block13_sepconv1 (SeparableConv (None, None, None, 7 536536      block13_sepconv1_act[0][0]       \n",
            "__________________________________________________________________________________________________\n",
            "block13_sepconv1_bn (BatchNorma (None, None, None, 7 2912        block13_sepconv1[0][0]           \n",
            "__________________________________________________________________________________________________\n",
            "block13_sepconv2_act (Activatio (None, None, None, 7 0           block13_sepconv1_bn[0][0]        \n",
            "__________________________________________________________________________________________________\n",
            "block13_sepconv2 (SeparableConv (None, None, None, 1 752024      block13_sepconv2_act[0][0]       \n",
            "__________________________________________________________________________________________________\n",
            "block13_sepconv2_bn (BatchNorma (None, None, None, 1 4096        block13_sepconv2[0][0]           \n",
            "__________________________________________________________________________________________________\n",
            "conv2d_19 (Conv2D)              (None, None, None, 1 745472      add_22[0][0]                     \n",
            "__________________________________________________________________________________________________\n",
            "block13_pool (MaxPooling2D)     (None, None, None, 1 0           block13_sepconv2_bn[0][0]        \n",
            "__________________________________________________________________________________________________\n",
            "batch_normalization_7 (BatchNor (None, None, None, 1 4096        conv2d_19[0][0]                  \n",
            "__________________________________________________________________________________________________\n",
            "add_23 (Add)                    (None, None, None, 1 0           block13_pool[0][0]               \n",
            "                                                                 batch_normalization_7[0][0]      \n",
            "__________________________________________________________________________________________________\n",
            "block14_sepconv1 (SeparableConv (None, None, None, 1 1582080     add_23[0][0]                     \n",
            "__________________________________________________________________________________________________\n",
            "block14_sepconv1_bn (BatchNorma (None, None, None, 1 6144        block14_sepconv1[0][0]           \n",
            "__________________________________________________________________________________________________\n",
            "block14_sepconv1_act (Activatio (None, None, None, 1 0           block14_sepconv1_bn[0][0]        \n",
            "__________________________________________________________________________________________________\n",
            "block14_sepconv2 (SeparableConv (None, None, None, 2 3159552     block14_sepconv1_act[0][0]       \n",
            "__________________________________________________________________________________________________\n",
            "block14_sepconv2_bn (BatchNorma (None, None, None, 2 8192        block14_sepconv2[0][0]           \n",
            "__________________________________________________________________________________________________\n",
            "block14_sepconv2_act (Activatio (None, None, None, 2 0           block14_sepconv2_bn[0][0]        \n",
            "__________________________________________________________________________________________________\n",
            "global_average_pooling2d (Globa (None, 2048)         0           block14_sepconv2_act[0][0]       \n",
            "__________________________________________________________________________________________________\n",
            "dropout_6 (Dropout)             (None, 2048)         0           global_average_pooling2d[0][0]   \n",
            "__________________________________________________________________________________________________\n",
            "dense_6 (Dense)                 (None, 3)            6147        dropout_6[0][0]                  \n",
            "==================================================================================================\n",
            "Total params: 20,867,627\n",
            "Trainable params: 20,813,099\n",
            "Non-trainable params: 54,528\n",
            "__________________________________________________________________________________________________\n"
          ],
          "name": "stdout"
        }
      ]
    },
    {
      "cell_type": "markdown",
      "metadata": {
        "id": "YsfycGi_QxPA"
      },
      "source": [
        "Evaluation words"
      ]
    },
    {
      "cell_type": "code",
      "metadata": {
        "id": "6vBQ6f5UQ28o"
      },
      "source": [
        "# Applys best weights to model\n",
        "base_model_Xception = applications.Xception(\n",
        "    weights='imagenet', # use pre-trained weights\n",
        "    include_top=False # not including fully connected layers\n",
        ")\n",
        "\n",
        "x = base_model_Xception.output\n",
        "x = GlobalAveragePooling2D()(x)\n",
        "x = Dropout(0.4)(x)\n",
        "\n",
        "predictions = Dense(3, activation='softmax')(x)\n",
        "Xception_model = Model(inputs=base_model_Xception.input, outputs=predictions)\n",
        "\n",
        "# Load weights\n",
        "Xception_model.load_weights(\"xception_predict_day_market.h5\")"
      ],
      "execution_count": 55,
      "outputs": []
    },
    {
      "cell_type": "code",
      "metadata": {
        "id": "IUatmjW2SHuX"
      },
      "source": [
        "Xception_model.compile(loss='categorical_crossentropy', optimizer=SGD(lr=.0001, momentum=0.9), metrics=['accuracy'])"
      ],
      "execution_count": 56,
      "outputs": []
    },
    {
      "cell_type": "code",
      "metadata": {
        "colab": {
          "base_uri": "https://localhost:8080/"
        },
        "id": "KS9k1fDeScV0",
        "outputId": "3233c91e-f85d-4a48-c2e5-3107c1a26da0"
      },
      "source": [
        "# Evaluation scores\n",
        "scores = Xception_model.evaluate(validation_generator, verbose=0)\n",
        "print('Test loss:', scores[0])\n",
        "print('Test accuracy:', scores[1])"
      ],
      "execution_count": 57,
      "outputs": [
        {
          "output_type": "stream",
          "text": [
            "Test loss: 1.058395266532898\n",
            "Test accuracy: 0.428846150636673\n"
          ],
          "name": "stdout"
        }
      ]
    },
    {
      "cell_type": "code",
      "metadata": {
        "colab": {
          "base_uri": "https://localhost:8080/"
        },
        "id": "sWSD-tXRSlpb",
        "outputId": "9ee01a60-ac59-4f4f-e190-22c2f44e7b2a"
      },
      "source": [
        "# Confusion matrix\n",
        "predictions = Xception_model.predict_generator(validation_generator)\n",
        "predicted_classes = np.argmax(predictions, axis=1)\n",
        "y_true = validation_generator.classes\n",
        "cm = confusion_matrix(y_true=y_true, y_pred=predicted_classes)\n",
        "cm"
      ],
      "execution_count": 58,
      "outputs": [
        {
          "output_type": "stream",
          "text": [
            "/usr/local/lib/python3.7/dist-packages/tensorflow/python/keras/engine/training.py:1905: UserWarning: `Model.predict_generator` is deprecated and will be removed in a future version. Please use `Model.predict`, which supports generators.\n",
            "  warnings.warn('`Model.predict_generator` is deprecated and '\n"
          ],
          "name": "stderr"
        },
        {
          "output_type": "execute_result",
          "data": {
            "text/plain": [
              "array([[ 27,   3, 127],\n",
              "       [ 21,   5,  91],\n",
              "       [ 35,  16, 195]])"
            ]
          },
          "metadata": {
            "tags": []
          },
          "execution_count": 58
        }
      ]
    },
    {
      "cell_type": "code",
      "metadata": {
        "colab": {
          "base_uri": "https://localhost:8080/"
        },
        "id": "_Wzvxb_vSqia",
        "outputId": "0f00c901-06f9-4d98-9d8d-33aeaa3cd20b"
      },
      "source": [
        "# Classification report\n",
        "class_labels = list(validation_generator.class_indices.keys()) \n",
        "report = classification_report(y_true, predicted_classes, target_names=class_labels)\n",
        "print(report)"
      ],
      "execution_count": 59,
      "outputs": [
        {
          "output_type": "stream",
          "text": [
            "              precision    recall  f1-score   support\n",
            "\n",
            "        gain       0.33      0.17      0.22       157\n",
            "        loss       0.21      0.04      0.07       117\n",
            "     neutral       0.47      0.79      0.59       246\n",
            "\n",
            "    accuracy                           0.44       520\n",
            "   macro avg       0.34      0.34      0.30       520\n",
            "weighted avg       0.37      0.44      0.36       520\n",
            "\n"
          ],
          "name": "stdout"
        }
      ]
    },
    {
      "cell_type": "markdown",
      "metadata": {
        "id": "u-qwKHL_SsLy"
      },
      "source": [
        "Evaluation words"
      ]
    },
    {
      "cell_type": "markdown",
      "metadata": {
        "id": "KTg3tLlAI3B7"
      },
      "source": [
        "# Conclusions and Recommendations"
      ]
    },
    {
      "cell_type": "markdown",
      "metadata": {
        "id": "gGKBxFUDI5Sc"
      },
      "source": [
        "The goal of this project was to build a convolutional neural network to predict if the 8th day price movement would be a gain, neutral, or a loss, on average. Although there is some ability to predict the test set correctly, it' has only a slightly better chance of being correct than simply predicting the most likely outcome; which is loss, at 43.4%. The best performing simple CNN model scored: Test loss = 1.1721, Test accuracy = 0.04289. While the best performing model produced with the Xception pretrain scored: Test loss = 1.0584, Test accuracy = 0.04288. By this metric it is hard to choos one over the other beacause their performance is similarly poor. "
      ]
    },
    {
      "cell_type": "markdown",
      "metadata": {
        "id": "4X2alcwlUJxR"
      },
      "source": [
        "The quantitative metrics tells a similar story of performance as the plots do. However, when you compare the confusion matricies and the classification, it becomes clear that the Xception pretrained model does not score better F1 scores than the simple CNN. Well, except for the neutral category predictions. The precision and recall calculated from the confusion matricies are nearly all much less than 0.5. Only the recall score for the neutral class in the Xception model performed well at 0.79; which is the ratio of (True Positives) to the sum of (True Positives + False Negatives). There's a significant headspace for performance improvement across the board; and now we no what the models are bad or good at predicting and by how much."
      ]
    },
    {
      "cell_type": "markdown",
      "metadata": {
        "id": "eCVKV-vGUOEU"
      },
      "source": [
        "The primary recommendation I would have for conducting further analysis on this topic would be to collect much more image data. Market activity image data can be collected from additional exchanges and market watching websites. Another additional feature to play with would be to investigate trying to overlay the image sets with more useful analysis metrics; The Bitstamp Tradeview had dozens of metrics to apply to the graph and I only added to the candlestick tickers was a trade volume metric, and four Hamming moving averages with different period lengths. Additionally, the CNN model could use more optimization than time allowed fore in this capstone. The model architecture could always use further optimization, as well as the hyperparameters."
      ]
    },
    {
      "cell_type": "code",
      "metadata": {
        "id": "hhO5ToknV11D"
      },
      "source": [
        ""
      ],
      "execution_count": null,
      "outputs": []
    }
  ]
}